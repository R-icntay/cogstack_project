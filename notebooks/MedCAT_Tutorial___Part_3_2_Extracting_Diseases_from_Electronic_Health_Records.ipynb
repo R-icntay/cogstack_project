{
  "cells": [
    {
      "cell_type": "markdown",
      "metadata": {
        "id": "cfsWRsujEj4X"
      },
      "source": [
        "# Now let's start extracting concepts from unstructured text!\n"
      ]
    },
    {
      "cell_type": "code",
      "execution_count": null,
      "metadata": {
        "colab": {
          "base_uri": "https://localhost:8080/",
          "height": 1000
        },
        "id": "9A2H649kF2EE",
        "outputId": "a17563e1-d85f-45e1-bfcf-fb758ffc67b0"
      },
      "outputs": [
        {
          "name": "stdout",
          "output_type": "stream",
          "text": [
            "Collecting medcat==1.2.7\n",
            "  Downloading medcat-1.2.7-py3-none-any.whl (141 kB)\n",
            "\u001b[K     |████████████████████████████████| 141 kB 11.1 MB/s \n",
            "\u001b[?25hCollecting py2neo==2021.2.3\n",
            "  Downloading py2neo-2021.2.3-py2.py3-none-any.whl (177 kB)\n",
            "\u001b[K     |████████████████████████████████| 177 kB 54.8 MB/s \n",
            "\u001b[?25hRequirement already satisfied: multiprocess in /usr/local/lib/python3.7/dist-packages (from medcat==1.2.7) (0.70.12.2)\n",
            "Collecting aiofiles~=0.8.0\n",
            "  Downloading aiofiles-0.8.0-py3-none-any.whl (13 kB)\n",
            "Requirement already satisfied: ipywidgets~=7.6.5 in /usr/local/lib/python3.7/dist-packages (from medcat==1.2.7) (7.6.5)\n",
            "Requirement already satisfied: numpy<1.22.9,>=1.21.4 in /usr/local/lib/python3.7/dist-packages (from medcat==1.2.7) (1.21.5)\n",
            "Collecting elasticsearch>=7.10\n",
            "  Downloading elasticsearch-8.1.0-py3-none-any.whl (373 kB)\n",
            "\u001b[K     |████████████████████████████████| 373 kB 58.5 MB/s \n",
            "\u001b[?25hRequirement already satisfied: tqdm>=4.27 in /usr/local/lib/python3.7/dist-packages (from medcat==1.2.7) (4.63.0)\n",
            "Collecting datasets~=1.14.0\n",
            "  Downloading datasets-1.14.0-py3-none-any.whl (290 kB)\n",
            "\u001b[K     |████████████████████████████████| 290 kB 38.3 MB/s \n",
            "\u001b[?25hRequirement already satisfied: sklearn~=0.0 in /usr/local/lib/python3.7/dist-packages (from medcat==1.2.7) (0.0)\n",
            "Collecting psutil<6.0.0,>=5.8.0\n",
            "  Downloading psutil-5.9.0-cp37-cp37m-manylinux_2_12_x86_64.manylinux2010_x86_64.manylinux_2_17_x86_64.manylinux2014_x86_64.whl (280 kB)\n",
            "\u001b[K     |████████████████████████████████| 280 kB 56.5 MB/s \n",
            "\u001b[?25hRequirement already satisfied: dill~=0.3.4 in /usr/local/lib/python3.7/dist-packages (from medcat==1.2.7) (0.3.4)\n",
            "Collecting gensim~=4.1.2\n",
            "  Downloading gensim-4.1.2-cp37-cp37m-manylinux_2_12_x86_64.manylinux2010_x86_64.whl (24.1 MB)\n",
            "\u001b[K     |████████████████████████████████| 24.1 MB 2.1 MB/s \n",
            "\u001b[?25hCollecting jsonpickle~=2.0.0\n",
            "  Downloading jsonpickle-2.0.0-py2.py3-none-any.whl (37 kB)\n",
            "Collecting spacy<3.1.4,>=3.1.0\n",
            "  Downloading spacy-3.1.3-cp37-cp37m-manylinux_2_17_x86_64.manylinux2014_x86_64.whl (5.9 MB)\n",
            "\u001b[K     |████████████████████████████████| 5.9 MB 45.0 MB/s \n",
            "\u001b[?25hCollecting scipy<=1.7.1,>=1.5.4\n",
            "  Downloading scipy-1.7.1-cp37-cp37m-manylinux_2_5_x86_64.manylinux1_x86_64.whl (28.5 MB)\n",
            "\u001b[K     |████████████████████████████████| 28.5 MB 5.9 MB/s \n",
            "\u001b[?25hCollecting transformers~=4.11.3\n",
            "  Downloading transformers-4.11.3-py3-none-any.whl (2.9 MB)\n",
            "\u001b[K     |████████████████████████████████| 2.9 MB 42.6 MB/s \n",
            "\u001b[?25hCollecting torch<1.10,>=1.0\n",
            "  Downloading torch-1.9.1-cp37-cp37m-manylinux1_x86_64.whl (831.4 MB)\n",
            "\u001b[K     |████████████████████████████████| 831.4 MB 6.1 kB/s \n",
            "\u001b[?25hCollecting pandas<=1.3.4,>=1.1.5\n",
            "  Downloading pandas-1.3.4-cp37-cp37m-manylinux_2_17_x86_64.manylinux2014_x86_64.whl (11.3 MB)\n",
            "\u001b[K     |████████████████████████████████| 11.3 MB 53.6 MB/s \n",
            "\u001b[?25hCollecting xxhash==2.0.2\n",
            "  Downloading xxhash-2.0.2-cp37-cp37m-manylinux2010_x86_64.whl (243 kB)\n",
            "\u001b[K     |████████████████████████████████| 243 kB 63.2 MB/s \n",
            "\u001b[?25hRequirement already satisfied: certifi in /usr/local/lib/python3.7/dist-packages (from py2neo==2021.2.3->medcat==1.2.7) (2021.10.8)\n",
            "Collecting interchange~=2021.0.4\n",
            "  Downloading interchange-2021.0.4-py2.py3-none-any.whl (28 kB)\n",
            "Requirement already satisfied: six>=1.15.0 in /usr/local/lib/python3.7/dist-packages (from py2neo==2021.2.3->medcat==1.2.7) (1.15.0)\n",
            "Collecting monotonic\n",
            "  Downloading monotonic-1.6-py2.py3-none-any.whl (8.2 kB)\n",
            "Requirement already satisfied: urllib3 in /usr/local/lib/python3.7/dist-packages (from py2neo==2021.2.3->medcat==1.2.7) (1.24.3)\n",
            "Requirement already satisfied: pygments>=2.0.0 in /usr/local/lib/python3.7/dist-packages (from py2neo==2021.2.3->medcat==1.2.7) (2.6.1)\n",
            "Collecting pansi>=2020.7.3\n",
            "  Downloading pansi-2020.7.3-py2.py3-none-any.whl (10 kB)\n",
            "Requirement already satisfied: packaging in /usr/local/lib/python3.7/dist-packages (from py2neo==2021.2.3->medcat==1.2.7) (21.3)\n",
            "Requirement already satisfied: requests>=2.19.0 in /usr/local/lib/python3.7/dist-packages (from datasets~=1.14.0->medcat==1.2.7) (2.23.0)\n",
            "Requirement already satisfied: pyarrow!=4.0.0,>=1.0.0 in /usr/local/lib/python3.7/dist-packages (from datasets~=1.14.0->medcat==1.2.7) (6.0.1)\n",
            "Collecting aiohttp\n",
            "  Downloading aiohttp-3.8.1-cp37-cp37m-manylinux_2_5_x86_64.manylinux1_x86_64.manylinux_2_12_x86_64.manylinux2010_x86_64.whl (1.1 MB)\n",
            "\u001b[K     |████████████████████████████████| 1.1 MB 47.0 MB/s \n",
            "\u001b[?25hCollecting huggingface-hub<0.1.0,>=0.0.19\n",
            "  Downloading huggingface_hub-0.0.19-py3-none-any.whl (56 kB)\n",
            "\u001b[K     |████████████████████████████████| 56 kB 4.2 MB/s \n",
            "\u001b[?25hRequirement already satisfied: importlib-metadata in /usr/local/lib/python3.7/dist-packages (from datasets~=1.14.0->medcat==1.2.7) (4.11.2)\n",
            "Collecting fsspec[http]>=2021.05.0\n",
            "  Downloading fsspec-2022.2.0-py3-none-any.whl (134 kB)\n",
            "\u001b[K     |████████████████████████████████| 134 kB 58.1 MB/s \n",
            "\u001b[?25hCollecting elastic-transport<9,>=8\n",
            "  Downloading elastic_transport-8.1.0-py3-none-any.whl (58 kB)\n",
            "\u001b[K     |████████████████████████████████| 58 kB 6.0 MB/s \n",
            "\u001b[?25hCollecting urllib3\n",
            "  Downloading urllib3-1.26.9-py2.py3-none-any.whl (138 kB)\n",
            "\u001b[K     |████████████████████████████████| 138 kB 61.7 MB/s \n",
            "\u001b[?25hRequirement already satisfied: smart-open>=1.8.1 in /usr/local/lib/python3.7/dist-packages (from gensim~=4.1.2->medcat==1.2.7) (5.2.1)\n",
            "Requirement already satisfied: typing-extensions in /usr/local/lib/python3.7/dist-packages (from huggingface-hub<0.1.0,>=0.0.19->datasets~=1.14.0->medcat==1.2.7) (3.10.0.2)\n",
            "Requirement already satisfied: filelock in /usr/local/lib/python3.7/dist-packages (from huggingface-hub<0.1.0,>=0.0.19->datasets~=1.14.0->medcat==1.2.7) (3.6.0)\n",
            "Requirement already satisfied: pyyaml in /usr/local/lib/python3.7/dist-packages (from huggingface-hub<0.1.0,>=0.0.19->datasets~=1.14.0->medcat==1.2.7) (3.13)\n",
            "Requirement already satisfied: pytz in /usr/local/lib/python3.7/dist-packages (from interchange~=2021.0.4->py2neo==2021.2.3->medcat==1.2.7) (2018.9)\n",
            "Requirement already satisfied: jupyterlab-widgets>=1.0.0 in /usr/local/lib/python3.7/dist-packages (from ipywidgets~=7.6.5->medcat==1.2.7) (1.0.2)\n",
            "Requirement already satisfied: widgetsnbextension~=3.5.0 in /usr/local/lib/python3.7/dist-packages (from ipywidgets~=7.6.5->medcat==1.2.7) (3.5.2)\n",
            "Requirement already satisfied: traitlets>=4.3.1 in /usr/local/lib/python3.7/dist-packages (from ipywidgets~=7.6.5->medcat==1.2.7) (5.1.1)\n",
            "Requirement already satisfied: nbformat>=4.2.0 in /usr/local/lib/python3.7/dist-packages (from ipywidgets~=7.6.5->medcat==1.2.7) (5.1.3)\n",
            "Requirement already satisfied: ipython-genutils~=0.2.0 in /usr/local/lib/python3.7/dist-packages (from ipywidgets~=7.6.5->medcat==1.2.7) (0.2.0)\n",
            "Requirement already satisfied: ipykernel>=4.5.1 in /usr/local/lib/python3.7/dist-packages (from ipywidgets~=7.6.5->medcat==1.2.7) (4.10.1)\n",
            "Requirement already satisfied: ipython>=4.0.0 in /usr/local/lib/python3.7/dist-packages (from ipywidgets~=7.6.5->medcat==1.2.7) (5.5.0)\n",
            "Requirement already satisfied: tornado>=4.0 in /usr/local/lib/python3.7/dist-packages (from ipykernel>=4.5.1->ipywidgets~=7.6.5->medcat==1.2.7) (5.1.1)\n",
            "Requirement already satisfied: jupyter-client in /usr/local/lib/python3.7/dist-packages (from ipykernel>=4.5.1->ipywidgets~=7.6.5->medcat==1.2.7) (5.3.5)\n",
            "Requirement already satisfied: decorator in /usr/local/lib/python3.7/dist-packages (from ipython>=4.0.0->ipywidgets~=7.6.5->medcat==1.2.7) (4.4.2)\n",
            "Requirement already satisfied: setuptools>=18.5 in /usr/local/lib/python3.7/dist-packages (from ipython>=4.0.0->ipywidgets~=7.6.5->medcat==1.2.7) (57.4.0)\n",
            "Requirement already satisfied: simplegeneric>0.8 in /usr/local/lib/python3.7/dist-packages (from ipython>=4.0.0->ipywidgets~=7.6.5->medcat==1.2.7) (0.8.1)\n",
            "Requirement already satisfied: pickleshare in /usr/local/lib/python3.7/dist-packages (from ipython>=4.0.0->ipywidgets~=7.6.5->medcat==1.2.7) (0.7.5)\n",
            "Requirement already satisfied: prompt-toolkit<2.0.0,>=1.0.4 in /usr/local/lib/python3.7/dist-packages (from ipython>=4.0.0->ipywidgets~=7.6.5->medcat==1.2.7) (1.0.18)\n",
            "Requirement already satisfied: pexpect in /usr/local/lib/python3.7/dist-packages (from ipython>=4.0.0->ipywidgets~=7.6.5->medcat==1.2.7) (4.8.0)\n",
            "Requirement already satisfied: jsonschema!=2.5.0,>=2.4 in /usr/local/lib/python3.7/dist-packages (from nbformat>=4.2.0->ipywidgets~=7.6.5->medcat==1.2.7) (4.3.3)\n",
            "Requirement already satisfied: jupyter-core in /usr/local/lib/python3.7/dist-packages (from nbformat>=4.2.0->ipywidgets~=7.6.5->medcat==1.2.7) (4.9.2)\n",
            "Requirement already satisfied: importlib-resources>=1.4.0 in /usr/local/lib/python3.7/dist-packages (from jsonschema!=2.5.0,>=2.4->nbformat>=4.2.0->ipywidgets~=7.6.5->medcat==1.2.7) (5.4.0)\n",
            "Requirement already satisfied: pyrsistent!=0.17.0,!=0.17.1,!=0.17.2,>=0.14.0 in /usr/local/lib/python3.7/dist-packages (from jsonschema!=2.5.0,>=2.4->nbformat>=4.2.0->ipywidgets~=7.6.5->medcat==1.2.7) (0.18.1)\n",
            "Requirement already satisfied: attrs>=17.4.0 in /usr/local/lib/python3.7/dist-packages (from jsonschema!=2.5.0,>=2.4->nbformat>=4.2.0->ipywidgets~=7.6.5->medcat==1.2.7) (21.4.0)\n",
            "Requirement already satisfied: zipp>=3.1.0 in /usr/local/lib/python3.7/dist-packages (from importlib-resources>=1.4.0->jsonschema!=2.5.0,>=2.4->nbformat>=4.2.0->ipywidgets~=7.6.5->medcat==1.2.7) (3.7.0)\n",
            "Requirement already satisfied: pyparsing!=3.0.5,>=2.0.2 in /usr/local/lib/python3.7/dist-packages (from packaging->py2neo==2021.2.3->medcat==1.2.7) (3.0.7)\n",
            "Requirement already satisfied: python-dateutil>=2.7.3 in /usr/local/lib/python3.7/dist-packages (from pandas<=1.3.4,>=1.1.5->medcat==1.2.7) (2.8.2)\n",
            "Requirement already satisfied: wcwidth in /usr/local/lib/python3.7/dist-packages (from prompt-toolkit<2.0.0,>=1.0.4->ipython>=4.0.0->ipywidgets~=7.6.5->medcat==1.2.7) (0.2.5)\n",
            "Requirement already satisfied: idna<3,>=2.5 in /usr/local/lib/python3.7/dist-packages (from requests>=2.19.0->datasets~=1.14.0->medcat==1.2.7) (2.10)\n",
            "Requirement already satisfied: chardet<4,>=3.0.2 in /usr/local/lib/python3.7/dist-packages (from requests>=2.19.0->datasets~=1.14.0->medcat==1.2.7) (3.0.4)\n",
            "Collecting requests>=2.19.0\n",
            "  Downloading requests-2.27.1-py2.py3-none-any.whl (63 kB)\n",
            "\u001b[K     |████████████████████████████████| 63 kB 1.6 MB/s \n",
            "\u001b[?25hRequirement already satisfied: charset-normalizer~=2.0.0 in /usr/local/lib/python3.7/dist-packages (from requests>=2.19.0->datasets~=1.14.0->medcat==1.2.7) (2.0.12)\n",
            "Requirement already satisfied: scikit-learn in /usr/local/lib/python3.7/dist-packages (from sklearn~=0.0->medcat==1.2.7) (1.0.2)\n",
            "Requirement already satisfied: murmurhash<1.1.0,>=0.28.0 in /usr/local/lib/python3.7/dist-packages (from spacy<3.1.4,>=3.1.0->medcat==1.2.7) (1.0.6)\n",
            "Collecting pydantic!=1.8,!=1.8.1,<1.9.0,>=1.7.4\n",
            "  Downloading pydantic-1.8.2-cp37-cp37m-manylinux2014_x86_64.whl (10.1 MB)\n",
            "\u001b[K     |████████████████████████████████| 10.1 MB 29.8 MB/s \n",
            "\u001b[?25hRequirement already satisfied: jinja2 in /usr/local/lib/python3.7/dist-packages (from spacy<3.1.4,>=3.1.0->medcat==1.2.7) (2.11.3)\n",
            "Collecting thinc<8.1.0,>=8.0.9\n",
            "  Downloading thinc-8.0.15-cp37-cp37m-manylinux_2_17_x86_64.manylinux2014_x86_64.whl (653 kB)\n",
            "\u001b[K     |████████████████████████████████| 653 kB 39.6 MB/s \n",
            "\u001b[?25hCollecting catalogue<2.1.0,>=2.0.6\n",
            "  Downloading catalogue-2.0.6-py3-none-any.whl (17 kB)\n",
            "Requirement already satisfied: preshed<3.1.0,>=3.0.2 in /usr/local/lib/python3.7/dist-packages (from spacy<3.1.4,>=3.1.0->medcat==1.2.7) (3.0.6)\n",
            "Collecting srsly<3.0.0,>=2.4.1\n",
            "  Downloading srsly-2.4.2-cp37-cp37m-manylinux_2_17_x86_64.manylinux2014_x86_64.whl (451 kB)\n",
            "\u001b[K     |████████████████████████████████| 451 kB 63.2 MB/s \n",
            "\u001b[?25hRequirement already satisfied: blis<0.8.0,>=0.4.0 in /usr/local/lib/python3.7/dist-packages (from spacy<3.1.4,>=3.1.0->medcat==1.2.7) (0.4.1)\n",
            "Collecting typer<0.5.0,>=0.3.0\n",
            "  Downloading typer-0.4.0-py3-none-any.whl (27 kB)\n",
            "Requirement already satisfied: cymem<2.1.0,>=2.0.2 in /usr/local/lib/python3.7/dist-packages (from spacy<3.1.4,>=3.1.0->medcat==1.2.7) (2.0.6)\n",
            "Requirement already satisfied: wasabi<1.1.0,>=0.8.1 in /usr/local/lib/python3.7/dist-packages (from spacy<3.1.4,>=3.1.0->medcat==1.2.7) (0.9.0)\n",
            "Collecting spacy-legacy<3.1.0,>=3.0.8\n",
            "  Downloading spacy_legacy-3.0.9-py2.py3-none-any.whl (20 kB)\n",
            "Collecting pathy>=0.3.5\n",
            "  Downloading pathy-0.6.1-py3-none-any.whl (42 kB)\n",
            "\u001b[K     |████████████████████████████████| 42 kB 1.4 MB/s \n",
            "\u001b[?25hCollecting sacremoses\n",
            "  Downloading sacremoses-0.0.49-py3-none-any.whl (895 kB)\n",
            "\u001b[K     |████████████████████████████████| 895 kB 53.0 MB/s \n",
            "\u001b[?25hCollecting tokenizers<0.11,>=0.10.1\n",
            "  Downloading tokenizers-0.10.3-cp37-cp37m-manylinux_2_5_x86_64.manylinux1_x86_64.manylinux_2_12_x86_64.manylinux2010_x86_64.whl (3.3 MB)\n",
            "\u001b[K     |████████████████████████████████| 3.3 MB 54.2 MB/s \n",
            "\u001b[?25hRequirement already satisfied: regex!=2019.12.17 in /usr/local/lib/python3.7/dist-packages (from transformers~=4.11.3->medcat==1.2.7) (2019.12.20)\n",
            "Collecting pyyaml\n",
            "  Downloading PyYAML-6.0-cp37-cp37m-manylinux_2_5_x86_64.manylinux1_x86_64.manylinux_2_12_x86_64.manylinux2010_x86_64.whl (596 kB)\n",
            "\u001b[K     |████████████████████████████████| 596 kB 46.3 MB/s \n",
            "\u001b[?25hRequirement already satisfied: click<9.0.0,>=7.1.1 in /usr/local/lib/python3.7/dist-packages (from typer<0.5.0,>=0.3.0->spacy<3.1.4,>=3.1.0->medcat==1.2.7) (7.1.2)\n",
            "Requirement already satisfied: notebook>=4.4.1 in /usr/local/lib/python3.7/dist-packages (from widgetsnbextension~=3.5.0->ipywidgets~=7.6.5->medcat==1.2.7) (5.3.1)\n",
            "Requirement already satisfied: nbconvert in /usr/local/lib/python3.7/dist-packages (from notebook>=4.4.1->widgetsnbextension~=3.5.0->ipywidgets~=7.6.5->medcat==1.2.7) (5.6.1)\n",
            "Requirement already satisfied: Send2Trash in /usr/local/lib/python3.7/dist-packages (from notebook>=4.4.1->widgetsnbextension~=3.5.0->ipywidgets~=7.6.5->medcat==1.2.7) (1.8.0)\n",
            "Requirement already satisfied: terminado>=0.8.1 in /usr/local/lib/python3.7/dist-packages (from notebook>=4.4.1->widgetsnbextension~=3.5.0->ipywidgets~=7.6.5->medcat==1.2.7) (0.13.3)\n",
            "Requirement already satisfied: pyzmq>=13 in /usr/local/lib/python3.7/dist-packages (from jupyter-client->ipykernel>=4.5.1->ipywidgets~=7.6.5->medcat==1.2.7) (22.3.0)\n",
            "Requirement already satisfied: ptyprocess in /usr/local/lib/python3.7/dist-packages (from terminado>=0.8.1->notebook>=4.4.1->widgetsnbextension~=3.5.0->ipywidgets~=7.6.5->medcat==1.2.7) (0.7.0)\n",
            "Collecting frozenlist>=1.1.1\n",
            "  Downloading frozenlist-1.3.0-cp37-cp37m-manylinux_2_5_x86_64.manylinux1_x86_64.manylinux_2_17_x86_64.manylinux2014_x86_64.whl (144 kB)\n",
            "\u001b[K     |████████████████████████████████| 144 kB 55.4 MB/s \n",
            "\u001b[?25hCollecting aiosignal>=1.1.2\n",
            "  Downloading aiosignal-1.2.0-py3-none-any.whl (8.2 kB)\n",
            "Collecting asynctest==0.13.0\n",
            "  Downloading asynctest-0.13.0-py3-none-any.whl (26 kB)\n",
            "Collecting yarl<2.0,>=1.0\n",
            "  Downloading yarl-1.7.2-cp37-cp37m-manylinux_2_5_x86_64.manylinux1_x86_64.manylinux_2_12_x86_64.manylinux2010_x86_64.whl (271 kB)\n",
            "\u001b[K     |████████████████████████████████| 271 kB 47.0 MB/s \n",
            "\u001b[?25hCollecting async-timeout<5.0,>=4.0.0a3\n",
            "  Downloading async_timeout-4.0.2-py3-none-any.whl (5.8 kB)\n",
            "Collecting multidict<7.0,>=4.5\n",
            "  Downloading multidict-6.0.2-cp37-cp37m-manylinux_2_17_x86_64.manylinux2014_x86_64.whl (94 kB)\n",
            "\u001b[K     |████████████████████████████████| 94 kB 2.4 MB/s \n",
            "\u001b[?25hRequirement already satisfied: MarkupSafe>=0.23 in /usr/local/lib/python3.7/dist-packages (from jinja2->spacy<3.1.4,>=3.1.0->medcat==1.2.7) (2.0.1)\n",
            "Requirement already satisfied: entrypoints>=0.2.2 in /usr/local/lib/python3.7/dist-packages (from nbconvert->notebook>=4.4.1->widgetsnbextension~=3.5.0->ipywidgets~=7.6.5->medcat==1.2.7) (0.4)\n",
            "Requirement already satisfied: defusedxml in /usr/local/lib/python3.7/dist-packages (from nbconvert->notebook>=4.4.1->widgetsnbextension~=3.5.0->ipywidgets~=7.6.5->medcat==1.2.7) (0.7.1)\n",
            "Requirement already satisfied: pandocfilters>=1.4.1 in /usr/local/lib/python3.7/dist-packages (from nbconvert->notebook>=4.4.1->widgetsnbextension~=3.5.0->ipywidgets~=7.6.5->medcat==1.2.7) (1.5.0)\n",
            "Requirement already satisfied: mistune<2,>=0.8.1 in /usr/local/lib/python3.7/dist-packages (from nbconvert->notebook>=4.4.1->widgetsnbextension~=3.5.0->ipywidgets~=7.6.5->medcat==1.2.7) (0.8.4)\n",
            "Requirement already satisfied: testpath in /usr/local/lib/python3.7/dist-packages (from nbconvert->notebook>=4.4.1->widgetsnbextension~=3.5.0->ipywidgets~=7.6.5->medcat==1.2.7) (0.6.0)\n",
            "Requirement already satisfied: bleach in /usr/local/lib/python3.7/dist-packages (from nbconvert->notebook>=4.4.1->widgetsnbextension~=3.5.0->ipywidgets~=7.6.5->medcat==1.2.7) (4.1.0)\n",
            "Requirement already satisfied: webencodings in /usr/local/lib/python3.7/dist-packages (from bleach->nbconvert->notebook>=4.4.1->widgetsnbextension~=3.5.0->ipywidgets~=7.6.5->medcat==1.2.7) (0.5.1)\n",
            "Requirement already satisfied: joblib in /usr/local/lib/python3.7/dist-packages (from sacremoses->transformers~=4.11.3->medcat==1.2.7) (1.1.0)\n",
            "Requirement already satisfied: threadpoolctl>=2.0.0 in /usr/local/lib/python3.7/dist-packages (from scikit-learn->sklearn~=0.0->medcat==1.2.7) (3.1.0)\n",
            "Installing collected packages: multidict, frozenlist, yarl, urllib3, catalogue, asynctest, async-timeout, aiosignal, typer, srsly, scipy, requests, pyyaml, pydantic, fsspec, aiohttp, xxhash, tokenizers, thinc, spacy-legacy, sacremoses, pathy, pansi, pandas, monotonic, interchange, huggingface-hub, elastic-transport, transformers, torch, spacy, py2neo, psutil, jsonpickle, gensim, elasticsearch, datasets, aiofiles, medcat\n",
            "  Attempting uninstall: urllib3\n",
            "    Found existing installation: urllib3 1.24.3\n",
            "    Uninstalling urllib3-1.24.3:\n",
            "      Successfully uninstalled urllib3-1.24.3\n",
            "  Attempting uninstall: catalogue\n",
            "    Found existing installation: catalogue 1.0.0\n",
            "    Uninstalling catalogue-1.0.0:\n",
            "      Successfully uninstalled catalogue-1.0.0\n",
            "  Attempting uninstall: srsly\n",
            "    Found existing installation: srsly 1.0.5\n",
            "    Uninstalling srsly-1.0.5:\n",
            "      Successfully uninstalled srsly-1.0.5\n",
            "  Attempting uninstall: scipy\n",
            "    Found existing installation: scipy 1.4.1\n",
            "    Uninstalling scipy-1.4.1:\n",
            "      Successfully uninstalled scipy-1.4.1\n",
            "  Attempting uninstall: requests\n",
            "    Found existing installation: requests 2.23.0\n",
            "    Uninstalling requests-2.23.0:\n",
            "      Successfully uninstalled requests-2.23.0\n",
            "  Attempting uninstall: pyyaml\n",
            "    Found existing installation: PyYAML 3.13\n",
            "    Uninstalling PyYAML-3.13:\n",
            "      Successfully uninstalled PyYAML-3.13\n",
            "  Attempting uninstall: thinc\n",
            "    Found existing installation: thinc 7.4.0\n",
            "    Uninstalling thinc-7.4.0:\n",
            "      Successfully uninstalled thinc-7.4.0\n",
            "  Attempting uninstall: pandas\n",
            "    Found existing installation: pandas 1.3.5\n",
            "    Uninstalling pandas-1.3.5:\n",
            "      Successfully uninstalled pandas-1.3.5\n",
            "  Attempting uninstall: torch\n",
            "    Found existing installation: torch 1.10.0+cu111\n",
            "    Uninstalling torch-1.10.0+cu111:\n",
            "      Successfully uninstalled torch-1.10.0+cu111\n",
            "  Attempting uninstall: spacy\n",
            "    Found existing installation: spacy 2.2.4\n",
            "    Uninstalling spacy-2.2.4:\n",
            "      Successfully uninstalled spacy-2.2.4\n",
            "  Attempting uninstall: psutil\n",
            "    Found existing installation: psutil 5.4.8\n",
            "    Uninstalling psutil-5.4.8:\n",
            "      Successfully uninstalled psutil-5.4.8\n",
            "  Attempting uninstall: gensim\n",
            "    Found existing installation: gensim 3.6.0\n",
            "    Uninstalling gensim-3.6.0:\n",
            "      Successfully uninstalled gensim-3.6.0\n",
            "\u001b[31mERROR: pip's dependency resolver does not currently take into account all the packages that are installed. This behaviour is the source of the following dependency conflicts.\n",
            "torchvision 0.11.1+cu111 requires torch==1.10.0, but you have torch 1.9.1 which is incompatible.\n",
            "torchtext 0.11.0 requires torch==1.10.0, but you have torch 1.9.1 which is incompatible.\n",
            "torchaudio 0.10.0+cu111 requires torch==1.10.0, but you have torch 1.9.1 which is incompatible.\n",
            "google-colab 1.0.0 requires requests~=2.23.0, but you have requests 2.27.1 which is incompatible.\n",
            "datascience 0.10.6 requires folium==0.2.1, but you have folium 0.8.3 which is incompatible.\n",
            "albumentations 0.1.12 requires imgaug<0.2.7,>=0.2.5, but you have imgaug 0.2.9 which is incompatible.\u001b[0m\n",
            "Successfully installed aiofiles-0.8.0 aiohttp-3.8.1 aiosignal-1.2.0 async-timeout-4.0.2 asynctest-0.13.0 catalogue-2.0.6 datasets-1.14.0 elastic-transport-8.1.0 elasticsearch-8.1.0 frozenlist-1.3.0 fsspec-2022.2.0 gensim-4.1.2 huggingface-hub-0.0.19 interchange-2021.0.4 jsonpickle-2.0.0 medcat-1.2.7 monotonic-1.6 multidict-6.0.2 pandas-1.3.4 pansi-2020.7.3 pathy-0.6.1 psutil-5.9.0 py2neo-2021.2.3 pydantic-1.8.2 pyyaml-6.0 requests-2.27.1 sacremoses-0.0.49 scipy-1.7.1 spacy-3.1.3 spacy-legacy-3.0.9 srsly-2.4.2 thinc-8.0.15 tokenizers-0.10.3 torch-1.9.1 transformers-4.11.3 typer-0.4.0 urllib3-1.26.9 xxhash-2.0.2 yarl-1.7.2\n"
          ]
        },
        {
          "data": {
            "application/vnd.colab-display-data+json": {
              "pip_warning": {
                "packages": [
                  "psutil"
                ]
              }
            }
          },
          "metadata": {},
          "output_type": "display_data"
        }
      ],
      "source": [
        "# Install medcat into the local environment\n",
        "! pip install medcat==1.2.7"
      ]
    },
    {
      "cell_type": "markdown",
      "metadata": {
        "id": "3OLVuMJE03da"
      },
      "source": [
        "**Restart the runtime if on colab, sometimes necessary after installing models**"
      ]
    },
    {
      "cell_type": "code",
      "execution_count": null,
      "metadata": {
        "colab": {
          "base_uri": "https://localhost:8080/"
        },
        "id": "lho2dmm1VffS",
        "outputId": "93300eff-535a-4ea1-8a6f-dcf2d4f5b2dc"
      },
      "outputs": [
        {
          "name": "stderr",
          "output_type": "stream",
          "text": [
            "/usr/local/lib/python3.7/dist-packages/medcat/cat.py:18: TqdmExperimentalWarning: Using `tqdm.autonotebook.tqdm` in notebook mode. Use `tqdm.tqdm` instead to force console mode (e.g. in jupyter console)\n",
            "  from tqdm.autonotebook import tqdm, trange\n"
          ]
        }
      ],
      "source": [
        "import pandas as pd\n",
        "import numpy as np\n",
        "import pickle\n",
        "import seaborn as sns\n",
        "\n",
        "from matplotlib import pyplot as plt\n",
        "from medcat.cat import CAT"
      ]
    },
    {
      "cell_type": "code",
      "execution_count": null,
      "metadata": {
        "id": "VH8L597aVffZ"
      },
      "outputs": [],
      "source": [
        "DATA_DIR = \"./data/\"\n",
        "model_pack_path = DATA_DIR + \"medmen_wstatus_2021_oct.zip\""
      ]
    },
    {
      "cell_type": "code",
      "execution_count": null,
      "metadata": {
        "colab": {
          "base_uri": "https://localhost:8080/"
        },
        "id": "ics9eFrUI5lo",
        "outputId": "9bce1ec4-c3b2-4a47-c9c5-1c509c2c1cc6"
      },
      "outputs": [
        {
          "name": "stdout",
          "output_type": "stream",
          "text": [
            "--2022-03-21 13:13:07--  https://medcat.rosalind.kcl.ac.uk/media/medmen_wstatus_2021_oct.zip\n",
            "Resolving medcat.rosalind.kcl.ac.uk (medcat.rosalind.kcl.ac.uk)... 193.61.202.225\n",
            "Connecting to medcat.rosalind.kcl.ac.uk (medcat.rosalind.kcl.ac.uk)|193.61.202.225|:443... connected.\n",
            "HTTP request sent, awaiting response... 200 OK\n",
            "Length: 561947681 (536M) [application/zip]\n",
            "Saving to: ‘./data/medmen_wstatus_2021_oct.zip’\n",
            "\n",
            "medmen_wstatus_2021 100%[===================>] 535.92M  36.2MB/s    in 16s     \n",
            "\n",
            "2022-03-21 13:13:24 (33.4 MB/s) - ‘./data/medmen_wstatus_2021_oct.zip’ saved [561947681/561947681]\n",
            "\n",
            "--2022-03-21 13:13:24--  https://raw.githubusercontent.com/CogStack/MedCATtutorials/main/notebooks/introductory/data/pt_notes.csv\n",
            "Resolving raw.githubusercontent.com (raw.githubusercontent.com)... 185.199.108.133, 185.199.109.133, 185.199.110.133, ...\n",
            "Connecting to raw.githubusercontent.com (raw.githubusercontent.com)|185.199.108.133|:443... connected.\n",
            "HTTP request sent, awaiting response... 200 OK\n",
            "Length: 3644222 (3.5M) [text/plain]\n",
            "Saving to: ‘./data/pt_notes.csv’\n",
            "\n",
            "pt_notes.csv        100%[===================>]   3.47M  --.-KB/s    in 0.02s   \n",
            "\n",
            "2022-03-21 13:13:24 (177 MB/s) - ‘./data/pt_notes.csv’ saved [3644222/3644222]\n",
            "\n"
          ]
        }
      ],
      "source": [
        "# Download the models and required data\n",
        "!wget https://medcat.rosalind.kcl.ac.uk/media/medmen_wstatus_2021_oct.zip -P ./data/\n",
        "!wget https://raw.githubusercontent.com/CogStack/MedCATtutorials/main/notebooks/introductory/data/pt_notes.csv -P ./data/"
      ]
    },
    {
      "cell_type": "markdown",
      "metadata": {
        "id": "_thSfOjVVffc"
      },
      "source": [
        "## Loading the MedCAT modelpack"
      ]
    },
    {
      "cell_type": "code",
      "execution_count": null,
      "metadata": {
        "colab": {
          "base_uri": "https://localhost:8080/"
        },
        "id": "LFgIA5tSVffd",
        "outputId": "bfa9206f-06ca-4221-88f4-aec8342e04af"
      },
      "outputs": [
        {
          "name": "stdout",
          "output_type": "stream",
          "text": [
            "Unziping the model pack and loading models.\n",
            "{\n",
            "  \"Model ID\": null,\n",
            "  \"Last Modifed On\": null,\n",
            "  \"History (from least to most recent)\": [],\n",
            "  \"Description\": \"No description\",\n",
            "  \"Source Ontology\": null,\n",
            "  \"Location\": null,\n",
            "  \"MetaCAT models\": {},\n",
            "  \"Basic CDB Stats\": {},\n",
            "  \"Performance\": {\n",
            "    \"ner\": {},\n",
            "    \"meta\": {}\n",
            "  },\n",
            "  \"Important Parameters (Partial view, all available in cat.config)\": {\n",
            "    \"config.ner['min_name_len']\": {\n",
            "      \"value\": 3,\n",
            "      \"description\": \"Minimum detection length (found terms/mentions shorter than this will not be detected).\"\n",
            "    },\n",
            "    \"config.ner['upper_case_limit_len']\": {\n",
            "      \"value\": 3,\n",
            "      \"description\": \"All detected terms shorter than this value have to be uppercase, otherwise they will be ignored.\"\n",
            "    },\n",
            "    \"config.linking['similarity_threshold']\": {\n",
            "      \"value\": 0.2,\n",
            "      \"description\": \"If the confidence of the model is lower than this a detection will be ignore.\"\n",
            "    },\n",
            "    \"config.general['spell_check']\": {\n",
            "      \"value\": true,\n",
            "      \"description\": \"Is spell checking enabled.\"\n",
            "    },\n",
            "    \"config.general['spell_check_len_limit']\": {\n",
            "      \"value\": 7,\n",
            "      \"description\": \"Words shorter than this will not be spell checked.\"\n",
            "    }\n",
            "  }\n",
            "}\n"
          ]
        }
      ],
      "source": [
        "# Load model pack and Create CAT - the main class from medcat used for concept annotation\n",
        "cat = CAT.load_model_pack(model_pack_path)\n"
      ]
    },
    {
      "cell_type": "markdown",
      "metadata": {
        "id": "f7VxmscmVffi"
      },
      "source": [
        "## Testing Named Entity Recognition + Linking (NER+L)"
      ]
    },
    {
      "cell_type": "code",
      "execution_count": null,
      "metadata": {
        "colab": {
          "base_uri": "https://localhost:8080/"
        },
        "id": "7_L4-zPPVffj",
        "outputId": "99e12540-38dc-4e90-d059-59f7356142ae"
      },
      "outputs": [
        {
          "name": "stdout",
          "output_type": "stream",
          "text": [
            "(diagnosed, kidney failure)\n"
          ]
        }
      ],
      "source": [
        "text = \"He was diagnosed with kidney failure\"\n",
        "doc = cat(text)\n",
        "print(doc.ents)"
      ]
    },
    {
      "cell_type": "code",
      "execution_count": null,
      "metadata": {
        "colab": {
          "base_uri": "https://localhost:8080/"
        },
        "id": "wX64EAXGuEi3",
        "outputId": "8f9bd9a8-1678-45b2-cce8-3633ce2ad2b9"
      },
      "outputs": [
        {
          "data": {
            "text/plain": [
              "{'entities': {0: {'acc': 0.3913008909798732,\n",
              "   'context_similarity': 0.3913008909798732,\n",
              "   'cui': 'C0011900',\n",
              "   'detected_name': 'diagnosed',\n",
              "   'end': 16,\n",
              "   'icd10': [],\n",
              "   'id': 0,\n",
              "   'meta_anns': {'Status': {'confidence': 0.9999933838844299,\n",
              "     'name': 'Status',\n",
              "     'value': 'Affirmed'}},\n",
              "   'ontologies': [],\n",
              "   'pretty_name': 'Diagnosis',\n",
              "   'snomed': [],\n",
              "   'source_value': 'diagnosed',\n",
              "   'start': 7,\n",
              "   'type_ids': ['T060'],\n",
              "   'types': ['Diagnostic Procedure']},\n",
              "  2: {'acc': 1.0,\n",
              "   'context_similarity': 1.0,\n",
              "   'cui': 'C0035078',\n",
              "   'detected_name': 'kidney~failure',\n",
              "   'end': 36,\n",
              "   'icd10': [],\n",
              "   'id': 2,\n",
              "   'meta_anns': {'Status': {'confidence': 0.9999961853027344,\n",
              "     'name': 'Status',\n",
              "     'value': 'Affirmed'}},\n",
              "   'ontologies': [],\n",
              "   'pretty_name': 'Kidney Failure',\n",
              "   'snomed': [],\n",
              "   'source_value': 'kidney failure',\n",
              "   'start': 22,\n",
              "   'type_ids': ['T047'],\n",
              "   'types': ['Disease or Syndrome']}},\n",
              " 'tokens': []}"
            ]
          },
          "execution_count": 7,
          "metadata": {},
          "output_type": "execute_result"
        }
      ],
      "source": [
        "# To see all entities and corresponding meta-data\n",
        "cat.get_entities(\"He was diagnosed with kidney failure\", only_cui=False)"
      ]
    },
    {
      "cell_type": "code",
      "execution_count": null,
      "metadata": {
        "colab": {
          "base_uri": "https://localhost:8080/"
        },
        "id": "kDN04vBbVffl",
        "outputId": "3206d02d-cf65-47e5-8b1f-8dae508af027"
      },
      "outputs": [
        {
          "name": "stdout",
          "output_type": "stream",
          "text": [
            "diagnosed  -  C0011900\n",
            "kidney failure  -  C0035078\n"
          ]
        }
      ],
      "source": [
        "# If we want to see the CUI (ID) for each entity\n",
        "for ent in doc.ents:\n",
        "    print(ent, \" - \", ent._.cui)"
      ]
    },
    {
      "cell_type": "code",
      "execution_count": null,
      "metadata": {
        "colab": {
          "base_uri": "https://localhost:8080/"
        },
        "id": "ggj45cnLcAgh",
        "outputId": "7916899d-82dc-4052-e0ea-3855060cb9f2"
      },
      "outputs": [
        {
          "name": "stdout",
          "output_type": "stream",
          "text": [
            "diagnosed  -  {'T060'}\n",
            "kidney failure  -  {'T047'}\n"
          ]
        }
      ],
      "source": [
        "# To show type_ids and types for each entity\n",
        "for ent in doc.ents:\n",
        "  print(ent, \" - \", cat.cdb.cui2type_ids.get(ent._.cui))"
      ]
    },
    {
      "cell_type": "code",
      "execution_count": null,
      "metadata": {
        "colab": {
          "base_uri": "https://localhost:8080/",
          "height": 49
        },
        "id": "7hZPUuf1Vffo",
        "outputId": "35dd68b2-c6d3-46d0-c788-11e997c19a3d"
      },
      "outputs": [
        {
          "data": {
            "text/html": [
              "<span class=\"tex2jax_ignore\"><div class=\"entities\" style=\"line-height: 2.5; direction: ltr\">He was \n",
              "<mark class=\"entity\" style=\"background: #ddd; padding: 0.45em 0.6em; margin: 0 0.25em; line-height: 1; border-radius: 0.35em;\">\n",
              "    diagnosed\n",
              "    <span style=\"font-size: 0.8em; font-weight: bold; line-height: 1; border-radius: 0.35em; vertical-align: middle; margin-left: 0.5rem\">concept</span>\n",
              "</mark>\n",
              " with \n",
              "<mark class=\"entity\" style=\"background: #ddd; padding: 0.45em 0.6em; margin: 0 0.25em; line-height: 1; border-radius: 0.35em;\">\n",
              "    kidney failure\n",
              "    <span style=\"font-size: 0.8em; font-weight: bold; line-height: 1; border-radius: 0.35em; vertical-align: middle; margin-left: 0.5rem\">concept</span>\n",
              "</mark>\n",
              "</div></span>"
            ],
            "text/plain": [
              "<IPython.core.display.HTML object>"
            ]
          },
          "metadata": {},
          "output_type": "display_data"
        }
      ],
      "source": [
        "# We can also show the entities in a nicer way using displacy form spaCy\n",
        "from spacy import displacy\n",
        "displacy.render(doc, style='ent', jupyter=True)"
      ]
    },
    {
      "cell_type": "markdown",
      "metadata": {
        "id": "et68xVzxVffr"
      },
      "source": [
        "## Load the data"
      ]
    },
    {
      "cell_type": "code",
      "execution_count": null,
      "metadata": {
        "id": "j7krcYDyVffr"
      },
      "outputs": [],
      "source": [
        "# Load the dataset - the one we saved in the last step of Part 2.\n",
        "#If using MIMIC-III this is a very big dataset, be careful with memory requirements.\n",
        "data = pd.read_csv(DATA_DIR + \"pt_notes.csv\")"
      ]
    },
    {
      "cell_type": "code",
      "execution_count": null,
      "metadata": {
        "colab": {
          "base_uri": "https://localhost:8080/",
          "height": 187
        },
        "id": "nOPdyOoQVffv",
        "outputId": "301f72e2-2b06-4b24-8f6d-c1bf36aa22e5"
      },
      "outputs": [
        {
          "data": {
            "text/html": [
              "\n",
              "  <div id=\"df-b68d08cf-2f61-43b2-a55f-830bedda5676\">\n",
              "    <div class=\"colab-df-container\">\n",
              "      <div>\n",
              "<style scoped>\n",
              "    .dataframe tbody tr th:only-of-type {\n",
              "        vertical-align: middle;\n",
              "    }\n",
              "\n",
              "    .dataframe tbody tr th {\n",
              "        vertical-align: top;\n",
              "    }\n",
              "\n",
              "    .dataframe thead th {\n",
              "        text-align: right;\n",
              "    }\n",
              "</style>\n",
              "<table border=\"1\" class=\"dataframe\">\n",
              "  <thead>\n",
              "    <tr style=\"text-align: right;\">\n",
              "      <th></th>\n",
              "      <th>Unnamed: 0_x</th>\n",
              "      <th>subject_id</th>\n",
              "      <th>chartdate</th>\n",
              "      <th>category</th>\n",
              "      <th>text</th>\n",
              "      <th>create_year</th>\n",
              "      <th>Unnamed: 0_y</th>\n",
              "      <th>gender</th>\n",
              "      <th>dob</th>\n",
              "      <th>dob_year</th>\n",
              "      <th>age_year</th>\n",
              "    </tr>\n",
              "  </thead>\n",
              "  <tbody>\n",
              "    <tr>\n",
              "      <th>0</th>\n",
              "      <td>6</td>\n",
              "      <td>1</td>\n",
              "      <td>2079-01-01</td>\n",
              "      <td>General Medicine</td>\n",
              "      <td>HISTORY OF PRESENT ILLNESS:, The patient is a ...</td>\n",
              "      <td>2079</td>\n",
              "      <td>1</td>\n",
              "      <td>F</td>\n",
              "      <td>2018-01-01</td>\n",
              "      <td>2018</td>\n",
              "      <td>61</td>\n",
              "    </tr>\n",
              "    <tr>\n",
              "      <th>1</th>\n",
              "      <td>7</td>\n",
              "      <td>1</td>\n",
              "      <td>2079-01-01</td>\n",
              "      <td>Rheumatology</td>\n",
              "      <td>HISTORY OF PRESENT ILLNESS: , A 71-year-old fe...</td>\n",
              "      <td>2079</td>\n",
              "      <td>1</td>\n",
              "      <td>F</td>\n",
              "      <td>2018-01-01</td>\n",
              "      <td>2018</td>\n",
              "      <td>61</td>\n",
              "    </tr>\n",
              "    <tr>\n",
              "      <th>2</th>\n",
              "      <td>8</td>\n",
              "      <td>1</td>\n",
              "      <td>2079-01-01</td>\n",
              "      <td>Consult - History and Phy.</td>\n",
              "      <td>HISTORY OF PRESENT ILLNESS:, The patient is a ...</td>\n",
              "      <td>2079</td>\n",
              "      <td>1</td>\n",
              "      <td>F</td>\n",
              "      <td>2018-01-01</td>\n",
              "      <td>2018</td>\n",
              "      <td>61</td>\n",
              "    </tr>\n",
              "    <tr>\n",
              "      <th>3</th>\n",
              "      <td>9</td>\n",
              "      <td>2</td>\n",
              "      <td>2037-01-01</td>\n",
              "      <td>Consult - History and Phy.</td>\n",
              "      <td>CHIEF COMPLAINT:,1.  Infection.,2.  Pelvic pai...</td>\n",
              "      <td>2037</td>\n",
              "      <td>2</td>\n",
              "      <td>F</td>\n",
              "      <td>2018-01-01</td>\n",
              "      <td>2018</td>\n",
              "      <td>19</td>\n",
              "    </tr>\n",
              "    <tr>\n",
              "      <th>4</th>\n",
              "      <td>10</td>\n",
              "      <td>2</td>\n",
              "      <td>2037-01-01</td>\n",
              "      <td>Dermatology</td>\n",
              "      <td>SUBJECTIVE:,  This is a 29-year-old Vietnamese...</td>\n",
              "      <td>2037</td>\n",
              "      <td>2</td>\n",
              "      <td>F</td>\n",
              "      <td>2018-01-01</td>\n",
              "      <td>2018</td>\n",
              "      <td>19</td>\n",
              "    </tr>\n",
              "  </tbody>\n",
              "</table>\n",
              "</div>\n",
              "      <button class=\"colab-df-convert\" onclick=\"convertToInteractive('df-b68d08cf-2f61-43b2-a55f-830bedda5676')\"\n",
              "              title=\"Convert this dataframe to an interactive table.\"\n",
              "              style=\"display:none;\">\n",
              "        \n",
              "  <svg xmlns=\"http://www.w3.org/2000/svg\" height=\"24px\"viewBox=\"0 0 24 24\"\n",
              "       width=\"24px\">\n",
              "    <path d=\"M0 0h24v24H0V0z\" fill=\"none\"/>\n",
              "    <path d=\"M18.56 5.44l.94 2.06.94-2.06 2.06-.94-2.06-.94-.94-2.06-.94 2.06-2.06.94zm-11 1L8.5 8.5l.94-2.06 2.06-.94-2.06-.94L8.5 2.5l-.94 2.06-2.06.94zm10 10l.94 2.06.94-2.06 2.06-.94-2.06-.94-.94-2.06-.94 2.06-2.06.94z\"/><path d=\"M17.41 7.96l-1.37-1.37c-.4-.4-.92-.59-1.43-.59-.52 0-1.04.2-1.43.59L10.3 9.45l-7.72 7.72c-.78.78-.78 2.05 0 2.83L4 21.41c.39.39.9.59 1.41.59.51 0 1.02-.2 1.41-.59l7.78-7.78 2.81-2.81c.8-.78.8-2.07 0-2.86zM5.41 20L4 18.59l7.72-7.72 1.47 1.35L5.41 20z\"/>\n",
              "  </svg>\n",
              "      </button>\n",
              "      \n",
              "  <style>\n",
              "    .colab-df-container {\n",
              "      display:flex;\n",
              "      flex-wrap:wrap;\n",
              "      gap: 12px;\n",
              "    }\n",
              "\n",
              "    .colab-df-convert {\n",
              "      background-color: #E8F0FE;\n",
              "      border: none;\n",
              "      border-radius: 50%;\n",
              "      cursor: pointer;\n",
              "      display: none;\n",
              "      fill: #1967D2;\n",
              "      height: 32px;\n",
              "      padding: 0 0 0 0;\n",
              "      width: 32px;\n",
              "    }\n",
              "\n",
              "    .colab-df-convert:hover {\n",
              "      background-color: #E2EBFA;\n",
              "      box-shadow: 0px 1px 2px rgba(60, 64, 67, 0.3), 0px 1px 3px 1px rgba(60, 64, 67, 0.15);\n",
              "      fill: #174EA6;\n",
              "    }\n",
              "\n",
              "    [theme=dark] .colab-df-convert {\n",
              "      background-color: #3B4455;\n",
              "      fill: #D2E3FC;\n",
              "    }\n",
              "\n",
              "    [theme=dark] .colab-df-convert:hover {\n",
              "      background-color: #434B5C;\n",
              "      box-shadow: 0px 1px 3px 1px rgba(0, 0, 0, 0.15);\n",
              "      filter: drop-shadow(0px 1px 2px rgba(0, 0, 0, 0.3));\n",
              "      fill: #FFFFFF;\n",
              "    }\n",
              "  </style>\n",
              "\n",
              "      <script>\n",
              "        const buttonEl =\n",
              "          document.querySelector('#df-b68d08cf-2f61-43b2-a55f-830bedda5676 button.colab-df-convert');\n",
              "        buttonEl.style.display =\n",
              "          google.colab.kernel.accessAllowed ? 'block' : 'none';\n",
              "\n",
              "        async function convertToInteractive(key) {\n",
              "          const element = document.querySelector('#df-b68d08cf-2f61-43b2-a55f-830bedda5676');\n",
              "          const dataTable =\n",
              "            await google.colab.kernel.invokeFunction('convertToInteractive',\n",
              "                                                     [key], {});\n",
              "          if (!dataTable) return;\n",
              "\n",
              "          const docLinkHtml = 'Like what you see? Visit the ' +\n",
              "            '<a target=\"_blank\" href=https://colab.research.google.com/notebooks/data_table.ipynb>data table notebook</a>'\n",
              "            + ' to learn more about interactive tables.';\n",
              "          element.innerHTML = '';\n",
              "          dataTable['output_type'] = 'display_data';\n",
              "          await google.colab.output.renderOutput(dataTable, element);\n",
              "          const docLink = document.createElement('div');\n",
              "          docLink.innerHTML = docLinkHtml;\n",
              "          element.appendChild(docLink);\n",
              "        }\n",
              "      </script>\n",
              "    </div>\n",
              "  </div>\n",
              "  "
            ],
            "text/plain": [
              "   Unnamed: 0_x  subject_id   chartdate                     category  \\\n",
              "0             6           1  2079-01-01             General Medicine   \n",
              "1             7           1  2079-01-01                 Rheumatology   \n",
              "2             8           1  2079-01-01   Consult - History and Phy.   \n",
              "3             9           2  2037-01-01   Consult - History and Phy.   \n",
              "4            10           2  2037-01-01                  Dermatology   \n",
              "\n",
              "                                                text  create_year  \\\n",
              "0  HISTORY OF PRESENT ILLNESS:, The patient is a ...         2079   \n",
              "1  HISTORY OF PRESENT ILLNESS: , A 71-year-old fe...         2079   \n",
              "2  HISTORY OF PRESENT ILLNESS:, The patient is a ...         2079   \n",
              "3  CHIEF COMPLAINT:,1.  Infection.,2.  Pelvic pai...         2037   \n",
              "4  SUBJECTIVE:,  This is a 29-year-old Vietnamese...         2037   \n",
              "\n",
              "   Unnamed: 0_y gender         dob  dob_year  age_year  \n",
              "0             1      F  2018-01-01      2018        61  \n",
              "1             1      F  2018-01-01      2018        61  \n",
              "2             1      F  2018-01-01      2018        61  \n",
              "3             2      F  2018-01-01      2018        19  \n",
              "4             2      F  2018-01-01      2018        19  "
            ]
          },
          "execution_count": 12,
          "metadata": {},
          "output_type": "execute_result"
        }
      ],
      "source": [
        "# In this step we are only interested in the *text* column\n",
        "data.head()"
      ]
    },
    {
      "cell_type": "markdown",
      "metadata": {
        "id": "3CERW88jVffz"
      },
      "source": [
        "## Run unsupervised training"
      ]
    },
    {
      "cell_type": "code",
      "execution_count": null,
      "metadata": {
        "colab": {
          "base_uri": "https://localhost:8080/"
        },
        "id": "jHYbsOriVff0",
        "outputId": "ccb00656-86ff-495f-9368-f3f27ef9bfcc"
      },
      "outputs": [
        {
          "name": "stderr",
          "output_type": "stream",
          "text": [
            "{\n",
            "  \"Number of concepts\": 34724,\n",
            "  \"Number of names\": 92740,\n",
            "  \"Number of concepts that received training\": 34724,\n",
            "  \"Number of seen training examples in total\": 4079076,\n",
            "  \"Average training examples per concept\": 117.47137426563759\n",
            "}\n",
            "Start new training and checkpoints will be saved at /content/checkpoints/cat_train/1647868420...\n"
          ]
        },
        {
          "name": "stdout",
          "output_type": "stream",
          "text": [
            "\n",
            "There are 1088 documents to train...\n"
          ]
        },
        {
          "name": "stderr",
          "output_type": "stream",
          "text": [
            "DONE: 100\n",
            "DONE: 200\n",
            "DONE: 300\n",
            "DONE: 400\n",
            "DONE: 500\n",
            "DONE: 600\n",
            "DONE: 700\n",
            "DONE: 800\n",
            "DONE: 900\n",
            "DONE: 1000\n",
            "{\n",
            "  \"Number of concepts\": 34724,\n",
            "  \"Number of names\": 92740,\n",
            "  \"Number of concepts that received training\": 34724,\n",
            "  \"Number of seen training examples in total\": 4098994,\n",
            "  \"Average training examples per concept\": 118.04498329685521\n",
            "}\n"
          ]
        }
      ],
      "source": [
        "# The first step that we want to do when using MedCAT is unsupervised training.\n",
        "# You can find a full explanation of this process in the paper:\n",
        "# https://doi.org/10.1016/j.artmed.2021.102083\n",
        "\n",
        "# Print statistics on the CDB before training (note that if you are using the \n",
        "#medmen cdb it will already have some training)\n",
        "\n",
        "cat.cdb.print_stats()\n",
        "\n",
        "# Run the annotation procedure over all the documents we have,\n",
        "#given that we have a large number of documents this can take quite some time.\n",
        "print()\n",
        "print(f\"There are {len(data['text'])} documents to train...\")\n",
        "\n",
        "cat.train(data.text.values, progress_print=100)\n",
        "\n",
        "# Now print statistics on the CDB after training\n",
        "cat.cdb.print_stats()"
      ]
    },
    {
      "cell_type": "markdown",
      "metadata": {
        "id": "TsMpg0JSTdYm"
      },
      "source": [
        "## Save the new MedCAT modelpack"
      ]
    },
    {
      "cell_type": "code",
      "execution_count": null,
      "metadata": {
        "colab": {
          "base_uri": "https://localhost:8080/"
        },
        "id": "hPQdflWxTcSB",
        "outputId": "4b26efd5-36aa-4d3b-8282-f3d8b2fe0413"
      },
      "outputs": [
        {
          "name": "stderr",
          "output_type": "stream",
          "text": [
            "Please consider populating the version information [description, performance, location, ontology] in cat.config.version\n",
            "Please consider updating [description, performance, location, ontology] in cat.config.version\n",
            "This will save all models into a zip file, can take some time and require quite a bit of disk space.\n",
            "{\n",
            "  \"Model ID\": \"d179f657a725ee99\",\n",
            "  \"Last Modifed On\": \"21 March 2022\",\n",
            "  \"History (from least to most recent)\": [],\n",
            "  \"Description\": \"No description\",\n",
            "  \"Source Ontology\": null,\n",
            "  \"Location\": null,\n",
            "  \"MetaCAT models\": {\n",
            "    \"Status\": \"No description\"\n",
            "  },\n",
            "  \"Basic CDB Stats\": {\n",
            "    \"Number of concepts\": 34724,\n",
            "    \"Number of names\": 92740,\n",
            "    \"Number of concepts that received training\": 34724,\n",
            "    \"Number of seen training examples in total\": 4098994,\n",
            "    \"Average training examples per concept\": 118.04498329685521\n",
            "  },\n",
            "  \"Performance\": {\n",
            "    \"ner\": {},\n",
            "    \"meta\": {}\n",
            "  },\n",
            "  \"Important Parameters (Partial view, all available in cat.config)\": {\n",
            "    \"config.ner['min_name_len']\": {\n",
            "      \"value\": 3,\n",
            "      \"description\": \"Minimum detection length (found terms/mentions shorter than this will not be detected).\"\n",
            "    },\n",
            "    \"config.ner['upper_case_limit_len']\": {\n",
            "      \"value\": 3,\n",
            "      \"description\": \"All detected terms shorter than this value have to be uppercase, otherwise they will be ignored.\"\n",
            "    },\n",
            "    \"config.linking['similarity_threshold']\": {\n",
            "      \"value\": 0.2,\n",
            "      \"description\": \"If the confidence of the model is lower than this a detection will be ignore.\"\n",
            "    },\n",
            "    \"config.general['spell_check']\": {\n",
            "      \"value\": true,\n",
            "      \"description\": \"Is spell checking enabled.\"\n",
            "    },\n",
            "    \"config.general['spell_check_len_limit']\": {\n",
            "      \"value\": 7,\n",
            "      \"description\": \"Words shorter than this will not be spell checked.\"\n",
            "    }\n",
            "  }\n",
            "}\n"
          ]
        }
      ],
      "source": [
        "# unsupervised trained model\n",
        "model_pack_name = cat.create_model_pack(DATA_DIR + \"unsupervised_trained_model_pack\")"
      ]
    },
    {
      "cell_type": "markdown",
      "metadata": {
        "id": "9Wf7ugKkVff3"
      },
      "source": [
        "# Annotate Documents\n",
        "\n",
        "For this task we will annotate documents using the UMLS unsupervised model created above.\n",
        "\n",
        "The Type_ids in this CDB correspond to the Semantic Type(TUI) found within UMLS"
      ]
    },
    {
      "cell_type": "code",
      "execution_count": null,
      "metadata": {
        "colab": {
          "base_uri": "https://localhost:8080/"
        },
        "id": "9ASkdddmKZMY",
        "outputId": "40a226ff-794b-4167-c68e-a95c5669685d"
      },
      "outputs": [
        {
          "name": "stdout",
          "output_type": "stream",
          "text": [
            "Found an existing unziped model pack at: ./data/unsupervised_trained_model_pack/medcat_model_pack_d179f657a725ee99, the provided zip will not be touched.\n",
            "{\n",
            "  \"Model ID\": \"d179f657a725ee99\",\n",
            "  \"Last Modifed On\": \"21 March 2022\",\n",
            "  \"History (from least to most recent)\": [],\n",
            "  \"Description\": \"No description\",\n",
            "  \"Source Ontology\": null,\n",
            "  \"Location\": null,\n",
            "  \"MetaCAT models\": {\n",
            "    \"Status\": \"No description\"\n",
            "  },\n",
            "  \"Basic CDB Stats\": {\n",
            "    \"Number of concepts\": 34724,\n",
            "    \"Number of names\": 92740,\n",
            "    \"Number of concepts that received training\": 34724,\n",
            "    \"Number of seen training examples in total\": 4098994,\n",
            "    \"Average training examples per concept\": 118.04498329685521\n",
            "  },\n",
            "  \"Performance\": {\n",
            "    \"ner\": {},\n",
            "    \"meta\": {}\n",
            "  },\n",
            "  \"Important Parameters (Partial view, all available in cat.config)\": {\n",
            "    \"config.ner['min_name_len']\": {\n",
            "      \"value\": 3,\n",
            "      \"description\": \"Minimum detection length (found terms/mentions shorter than this will not be detected).\"\n",
            "    },\n",
            "    \"config.ner['upper_case_limit_len']\": {\n",
            "      \"value\": 3,\n",
            "      \"description\": \"All detected terms shorter than this value have to be uppercase, otherwise they will be ignored.\"\n",
            "    },\n",
            "    \"config.linking['similarity_threshold']\": {\n",
            "      \"value\": 0.2,\n",
            "      \"description\": \"If the confidence of the model is lower than this a detection will be ignore.\"\n",
            "    },\n",
            "    \"config.general['spell_check']\": {\n",
            "      \"value\": true,\n",
            "      \"description\": \"Is spell checking enabled.\"\n",
            "    },\n",
            "    \"config.general['spell_check_len_limit']\": {\n",
            "      \"value\": 7,\n",
            "      \"description\": \"Words shorter than this will not be spell checked.\"\n",
            "    }\n",
            "  }\n",
            "}\n"
          ]
        }
      ],
      "source": [
        "# Load the newly created MedCAT modelpack\n",
        "model_pack_path_2 = DATA_DIR + \"unsupervised_trained_model_pack/\" + model_pack_name + \".zip\"\n",
        "cat = CAT.load_model_pack(model_pack_path_2)"
      ]
    },
    {
      "cell_type": "markdown",
      "metadata": {
        "id": "rpzhuFFyVff3"
      },
      "source": [
        "We are not interested in all medical concepts that exist in UMLS, that is why we will filter by Semantic Type (TUI) to only:\n",
        "1. T047 - Disease or Syndrome\n",
        "2. T048 - Mental or Behavioral Dysfunction\n",
        "\n",
        "It is possible to filter after the detection process, but always better to define the filter as part of MedCAT\n",
        "\n",
        "A full list of semantic types in UMLS is available [here](https://metamap.nlm.nih.gov/Docs/SemanticTypes_2018AB.txt)."
      ]
    },
    {
      "cell_type": "code",
      "execution_count": null,
      "metadata": {
        "colab": {
          "base_uri": "https://localhost:8080/"
        },
        "id": "8WAS38nNVff4",
        "outputId": "f6912edc-da0e-4d83-cd7e-f928d95fd07f"
      },
      "outputs": [
        {
          "name": "stdout",
          "output_type": "stream",
          "text": [
            "The size of the cdb is now: 1763\n"
          ]
        }
      ],
      "source": [
        "# IMPORTANT: Set TUI/Type Ids filters\n",
        "# |T047|Disease or Syndrome\n",
        "# |T048|Mental or Behavioral Dysfunction\n",
        "type_ids_filter = ['T047', 'T048']\n",
        "cui_filters = set()\n",
        "for type_ids in type_ids_filter:\n",
        "  cui_filters.update(cat.cdb.addl_info['type_id2cuis'][type_ids])\n",
        "cat.cdb.config.linking['filters']['cuis'] = cui_filters\n",
        "print(f\"The size of the cdb is now: {len(cui_filters)}\")\n"
      ]
    },
    {
      "cell_type": "markdown",
      "metadata": {
        "id": "HSMCmCkQVff6"
      },
      "source": [
        "For each row in our dataframe `data` we want to get all diseases that appear in the `text` column. In UMLS a disease is defined by a CUI, so we want to have the following output after the annotation is done:\n",
        "```\n",
        "cui_location = {<CUI>: [<row_id>, <row_id>, ...], ...}\n",
        "```"
      ]
    },
    {
      "cell_type": "markdown",
      "metadata": {
        "id": "d_SdVDC92TtM"
      },
      "source": [
        "## Get entities from unstructured text\n",
        "We can annotate a portion of text."
      ]
    },
    {
      "cell_type": "code",
      "execution_count": null,
      "metadata": {
        "id": "JF3OmtKk2RXM"
      },
      "outputs": [],
      "source": [
        "annotated_text = cat.get_entities(\"This patient suffers from diabetes.\")"
      ]
    },
    {
      "cell_type": "code",
      "execution_count": null,
      "metadata": {
        "colab": {
          "base_uri": "https://localhost:8080/"
        },
        "id": "XmIql-9k2vp2",
        "outputId": "161a0fb4-05cb-4d31-9e09-e7c367c7ec14"
      },
      "outputs": [
        {
          "data": {
            "text/plain": [
              "{'entities': {2: {'acc': 0.7613368393011193,\n",
              "   'context_similarity': 0.7613368393011193,\n",
              "   'cui': 'C0011847',\n",
              "   'detected_name': 'diabete',\n",
              "   'end': 34,\n",
              "   'icd10': [],\n",
              "   'id': 2,\n",
              "   'meta_anns': {'Status': {'confidence': 0.9999899864196777,\n",
              "     'name': 'Status',\n",
              "     'value': 'Affirmed'}},\n",
              "   'ontologies': [],\n",
              "   'pretty_name': 'Diabetes',\n",
              "   'snomed': [],\n",
              "   'source_value': 'diabetes',\n",
              "   'start': 26,\n",
              "   'type_ids': ['T047'],\n",
              "   'types': ['Disease or Syndrome']}},\n",
              " 'tokens': []}"
            ]
          },
          "execution_count": 18,
          "metadata": {},
          "output_type": "execute_result"
        }
      ],
      "source": [
        "annotated_text"
      ]
    },
    {
      "cell_type": "markdown",
      "metadata": {
        "id": "kAwQU5HI3UnX"
      },
      "source": [
        "There is one concept Entity extracted from the sample text above. Feel free to try it out for yourself by altering the text.\n",
        "\n",
        "Don't forget that we applied the type_ids filter for [T047 & T048] so only concepts which fall within these categories will be shown."
      ]
    },
    {
      "cell_type": "markdown",
      "metadata": {
        "id": "rfHRh8C9Vff9"
      },
      "source": [
        "## Use Multiprocessing\n",
        "\n",
        "Although we can annotate documents one by one, using the `annotated_document = cat(text)` option, but it will work much faster if we do it using the `multi_processing` method from medcat.\n",
        "\n",
        "When using multi_processing medcat requires the following format for input documents:\n",
        "```\n",
        "in_data = [(doc_id, doc_text), (doc_id, doc_text), ...]\n",
        "```\n",
        "The output is (return from medcat):\n",
        "```\n",
        "out_data = [(doc_id, {'entities': [...], 'text': <...>), (doc_id, {'entities': [...], 'text': <...>}), ...]\n",
        "```\n",
        "\n",
        "NOTE: If using the full UMLS CDB and a lot of processors (e.g. 32) it is very memory demanding (~ 32GB). The annotation process on 32 processors and 1M large text documents takes ~1h. "
      ]
    },
    {
      "cell_type": "code",
      "execution_count": null,
      "metadata": {
        "colab": {
          "base_uri": "https://localhost:8080/"
        },
        "id": "6RET9-y9xZGK",
        "outputId": "a25baf99-79ac-4735-a2d4-f5b4107f48a3"
      },
      "outputs": [
        {
          "name": "stderr",
          "output_type": "stream",
          "text": [
            "Annotated until now: 0 docs; Current BS: 1 docs; Elapsed time: 0.00 minutes\n"
          ]
        },
        {
          "data": {
            "text/plain": [
              "{1: {'entities': {0: {'acc': 0.824328935192448,\n",
              "    'context_similarity': 0.824328935192448,\n",
              "    'cui': 'C0011847',\n",
              "    'detected_name': 'diabetic',\n",
              "    'end': 17,\n",
              "    'id': 0,\n",
              "    'meta_anns': {'Status': {'confidence': 0.999995231628418,\n",
              "      'name': 'Status',\n",
              "      'value': 'Affirmed'}},\n",
              "    'pretty_name': 'Diabetes',\n",
              "    'source_value': 'diabetic',\n",
              "    'start': 9,\n",
              "    'type_ids': ['T047'],\n",
              "    'types': ['Disease or Syndrome']}},\n",
              "  'tokens': []}}"
            ]
          },
          "execution_count": 19,
          "metadata": {},
          "output_type": "execute_result"
        }
      ],
      "source": [
        "# Let's test the multi processing function first\n",
        "in_data = [(1, \"He was a diabetic patient\")]\n",
        "results = cat.multiprocessing(in_data, nproc=2)\n",
        "results"
      ]
    },
    {
      "cell_type": "markdown",
      "metadata": {
        "id": "YIw5f-SpyoPC"
      },
      "source": [
        "The returned list of `entities` contains the following:\n",
        "\n",
        "`acc` - Confidence score for this detection\n",
        "\n",
        "`cui` - ID of the detected entity in the CDB (in our case UMLS)\n",
        "\n",
        "`pretty_name` - The pretty name for this entity linked with the CUI\n",
        "\n",
        "`detected_name` - What exact source value was detected\n",
        "\n",
        "`type_ids` - The category code\n",
        "\n",
        "`types` - Description label of the type_ids\n",
        "\n",
        "`start` - The start character for the entity in the original string\n",
        "\n",
        "`end` - End character for the entity in the original string\n",
        "\n",
        "`id` - Internal ID, each entity inside a document has an unique ID\n",
        "\n",
        "\n",
        "__Optional parameters which can also be set:__\n",
        "\n",
        "The following can also be set to be returned during the creation of the MedCAT CDB within the model pack\n",
        "\n",
        "`icd10` - If we are using a medical CDB, we'll also get ICD10 codes\n",
        "\n",
        "`umls` - If the CDB was something other than UMLS, we would get the potential link to UMLS.\n",
        "\n",
        "`snomed` - If we are using a medical CDB this would link to the equivalent SNOMED concept"
      ]
    },
    {
      "cell_type": "code",
      "execution_count": null,
      "metadata": {
        "colab": {
          "base_uri": "https://localhost:8080/"
        },
        "id": "SrIR0vGsJZui",
        "outputId": "3f0195a0-1c72-4cef-dd9c-450e12ba8592"
      },
      "outputs": [
        {
          "data": {
            "text/plain": [
              "(1088, 11)"
            ]
          },
          "execution_count": 20,
          "metadata": {},
          "output_type": "execute_result"
        }
      ],
      "source": [
        "data.shape"
      ]
    },
    {
      "cell_type": "code",
      "execution_count": null,
      "metadata": {
        "id": "FD0DJFrVR_CG"
      },
      "outputs": [],
      "source": [
        "# Think about removing text you don't want to annotate. E.g <10 characters\n",
        "data = data[data.text.apply(lambda x: len(str(x))>10)]"
      ]
    },
    {
      "cell_type": "code",
      "execution_count": null,
      "metadata": {
        "id": "PinJkXTZQpjh"
      },
      "outputs": [],
      "source": [
        "# format the df to match: in_data = [(doc_id, doc_text), (doc_id, doc_text), ...]\n",
        "in_data = []\n",
        "for id, row in data[['text']].iterrows():\n",
        "  text = row['text']\n",
        "  in_data.append((id, text))"
      ]
    },
    {
      "cell_type": "code",
      "execution_count": null,
      "metadata": {
        "colab": {
          "base_uri": "https://localhost:8080/"
        },
        "id": "o3KvcklTPGvB",
        "outputId": "8e1ab7d8-0388-40d4-80df-91e8074b1670"
      },
      "outputs": [
        {
          "name": "stderr",
          "output_type": "stream",
          "text": [
            "Annotated until now: 0 docs; Current BS: 157 docs; Elapsed time: 0.00 minutes\n",
            "Annotated until now: 157 docs; Current BS: 165 docs; Elapsed time: 1.33 minutes\n",
            "Annotated until now: 322 docs; Current BS: 151 docs; Elapsed time: 2.66 minutes\n",
            "Annotated until now: 473 docs; Current BS: 160 docs; Elapsed time: 3.99 minutes\n",
            "Annotated until now: 633 docs; Current BS: 152 docs; Elapsed time: 5.28 minutes\n",
            "Annotated until now: 785 docs; Current BS: 130 docs; Elapsed time: 6.60 minutes\n",
            "Annotated until now: 915 docs; Current BS: 157 docs; Elapsed time: 7.91 minutes\n",
            "Annotated until now: 1072 docs; Current BS: 16 docs; Elapsed time: 9.20 minutes\n"
          ]
        }
      ],
      "source": [
        "# Set a batch size to control for the variablity between document sizes\n",
        "batch_size_chars = 500000 # Batch size (BS) in number of characters\n",
        "\n",
        "# Run model\n",
        "results = cat.multiprocessing(in_data,  # Formatted data\n",
        "                              batch_size_chars = batch_size_chars,\n",
        "                              nproc=8) # Number of processors"
      ]
    },
    {
      "cell_type": "markdown",
      "metadata": {
        "id": "f-gRm2WKsq5n"
      },
      "source": [
        "To batch on the number of documents, you can use `multiprocessing_pipe` alternatively, which also supports Windows platforms:"
      ]
    },
    {
      "cell_type": "code",
      "execution_count": null,
      "metadata": {
        "colab": {
          "base_uri": "https://localhost:8080/",
          "height": 49,
          "referenced_widgets": [
            "fe3a77842e0d40db9aa3ce71ab80ce63",
            "d1b96d812f4d4ba1b261de03547225f9",
            "c0ec2bb2eb244dc889563dba0448cfec",
            "2a24d095ccdc4555ab17c1ee26fdce54",
            "d9cc15a4f1304dce8f35f1864fd9e511",
            "43ad8cc45ea349529575b4edab41e781",
            "798037a41f414025a64a7ec449791be0",
            "5bfe3797b58a4228aa1aedd7bab731f8",
            "9b9ab8c8d7644bd692ed7247e066ac30",
            "93c243f06a494585a0ca6ba3f9433d10",
            "464e2e851fb34833a588648e759a6d6f"
          ]
        },
        "id": "TFc7XkGbtclt",
        "outputId": "4d4ced86-8811-48cc-cd52-1cd53bfa35b4"
      },
      "outputs": [
        {
          "data": {
            "application/vnd.jupyter.widget-view+json": {
              "model_id": "fe3a77842e0d40db9aa3ce71ab80ce63",
              "version_major": 2,
              "version_minor": 0
            },
            "text/plain": [
              "  0%|          | 0/1088 [00:00<?, ?it/s]"
            ]
          },
          "metadata": {},
          "output_type": "display_data"
        }
      ],
      "source": [
        "# Set the batch size to the number of documents\n",
        "batch_size = 100 # Batch size (BS) in number of documents\n",
        "\n",
        "# Run model\n",
        "if __name__ == '__main__':\n",
        "  import torch\n",
        "  torch.multiprocessing.set_start_method('spawn', force=True)\n",
        "  results = cat.multiprocessing_pipe(in_data, # Formatted data\n",
        "                                     batch_size = batch_size,\n",
        "                                     nproc=2) # Increase it when having more cores available"
      ]
    },
    {
      "cell_type": "markdown",
      "metadata": {
        "id": "p3ykzPULg8Y4"
      },
      "source": [
        "For a quick sanity check. Let's inspect a document and the annotations that our unsupervised model has produced."
      ]
    },
    {
      "cell_type": "code",
      "execution_count": null,
      "metadata": {
        "colab": {
          "base_uri": "https://localhost:8080/",
          "height": 118
        },
        "id": "7PxUejjbgWAX",
        "outputId": "b8df15c3-6590-4e7a-b61f-6dcfa070d20c"
      },
      "outputs": [
        {
          "data": {
            "application/vnd.google.colaboratory.intrinsic+json": {
              "type": "string"
            },
            "text/plain": [
              "\"HISTORY OF PRESENT ILLNESS:, The patient is a 71-year-old Caucasian female with a history of diabetes, osteoarthritis, atrial fibrillation, hypertension, asthma, obstructive sleep apnea on CPAP, diabetic foot ulcer, anemia and left lower extremity cellulitis. She was brought in by the EMS service to Erlanger emergency department with pulseless electrical activity. Her husband states that he was at home with his wife, when she presented to him complaining of fever and chills. She became acutely unresponsive. She was noted to have worsening of her breathing. She took several of her MDIs and then was placed on her CPAP. He went to notify EMS and when he returned, she was found to not be breathing. He stated that she was noted to have no breathing in excess of 10 minutes. He states that the EMS system arrived at the home and she was found not breathing. The patient was intubated at the scene and upon arrival to Erlanger Medical Center, she was found to have pupils fixed and dilated. She was seen by me in the emergency department and was on Neo-Synephrine, dopamine with a blood pressure of 97/22 with a rapid heart rate and again, in an unresponsive state.,REVIEW OF SYSTEMS:, Review of systems was not obtainable.,PAST MEDICAL HISTORY:, Diabetes, osteoarthritis, hypertension, asthma, atrial fibrillation, diabetic foot ulcer and anemia.,PAST SURGICAL HISTORY:, Noncontributory to above.,FAMILY HISTORY:, Mother with history of coronary artery disease.,SOCIAL HISTORY:, The patient is married. She uses no ethanol, no tobacco and no illicits. She has a very support family unit.,MEDICATIONS:, Augmentin; Detrol LA; lisinopril.,IMMUNIZATIONS:, Immunizations were up to date for influenza, negative for Pneumovax.,ALLERGIES:, PENICILLIN.,LABORATORY AT PRESENTATION:, White blood cell count 11, hemoglobin 10.5, hematocrit 32.2, platelets 175,000. Sodium 148, potassium 5.2, BUN 30, creatinine 2.2 and glucose 216. PT was 22.4.,RADIOLOGIC DATA:, Chest x-ray revealed a diffuse pulmonary edema.,PHYSICAL EXAMINATION:,VITAL SIGNS: Blood pressure 97/52, pulse of 79, respirations 16, O2 sat 100%.,HEENT: The patient's pupils were again, fixed and dilated and intubated on the monitor.,CHEST: Poor air movement bilateral with bilateral rales.,CARDIOVASCULAR: Regular rate and rhythm.,ABDOMEN: The abdomen was obese, nondistended and nontender.,EXTREMITIES: Left diabetic foot had oozing pus drainage from the foot.,GU: Foley catheter was in place.,IMPRESSION AND PLAN:,1. Acute cardiac arrest with pulseless electrical activity with hypotensive shock and respiratory failure: Will continue ventilator support. Will rule out pulmonary embolus, rule out myocardial infarction. Continue pressors. The patient is currently on dopamine, Neo-Synephrine and Levophed.,2. Acute respiratory distress syndrome: Will continue ventilatory support.,3. Questionable sepsis: Will obtain blood cultures, intravenous vancomycin and Rocephin given.,4. Hypotensive shock: Will continue pressors. Will check random cortisol. Hydrocortisone was added.,Further inpatient management for this patient will be provided by Dr. R. The patient's status was discussed with her daughter and her husband. The husband states that his wife has been very ill in the past with multiple admissions, but he had never seen her as severely ill as with this event. He states that she completely was not breathing at all and he is aware of the severity of her illness and the gravity of her current prognosis. Will obtain the assistance with cardiology with this admission and will continue pressors and supportive therapy. The family will make an assessment and final decision concerning her long-term management after a 24 hour period.\""
            ]
          },
          "execution_count": 25,
          "metadata": {},
          "output_type": "execute_result"
        }
      ],
      "source": [
        "# Check one of the returned results, just in case\n",
        "data.iloc[0]['text']"
      ]
    },
    {
      "cell_type": "code",
      "execution_count": null,
      "metadata": {
        "colab": {
          "base_uri": "https://localhost:8080/"
        },
        "id": "IKBEPp2aR265",
        "outputId": "08ad93f2-ad8e-4347-8323-e6b285807608"
      },
      "outputs": [
        {
          "name": "stdout",
          "output_type": "stream",
          "text": [
            "C0011847 Diabetes\n",
            "\n",
            "C0029408 Degenerative polyarthritis\n",
            "\n",
            "C0004238 Atrial Fibrillation\n",
            "\n",
            "C0020538 Hypertensive disease\n",
            "\n",
            "C0004096 Asthma\n",
            "\n",
            "C0520679 Sleep Apnea, Obstructive\n",
            "\n",
            "C1456868 Diabetic foot ulcer\n",
            "\n",
            "C0002871 Anemia\n",
            "\n",
            "C0020538 Hypertensive disease\n",
            "\n",
            "C0011847 Diabetes\n",
            "\n",
            "C0029408 Degenerative polyarthritis\n",
            "\n",
            "C0020538 Hypertensive disease\n",
            "\n",
            "C0004096 Asthma\n",
            "\n",
            "C0004238 Atrial Fibrillation\n",
            "\n",
            "C1456868 Diabetic foot ulcer\n",
            "\n",
            "C0002871 Anemia\n",
            "\n",
            "C0010054 Coronary Arteriosclerosis\n",
            "\n",
            "C0018790 Cardiac Arrest\n",
            "\n",
            "C1145670 Respiratory Failure\n",
            "\n",
            "C0034065 Pulmonary Embolism\n",
            "\n",
            "C0027051 Myocardial Infarction\n",
            "\n",
            "C0035222 Respiratory Distress Syndrome, Adult\n",
            "\n",
            "C0243026 Sepsis\n",
            "\n"
          ]
        }
      ],
      "source": [
        "# See all annotations based on the filter set above. \n",
        "# Notice that entities not present in the filter are filtered out.\n",
        "cui_list = []\n",
        "for annotation in list(results[0]['entities'].values()):\n",
        "  print(annotation['cui'], annotation['pretty_name'])\n",
        "  print()"
      ]
    },
    {
      "cell_type": "markdown",
      "metadata": {
        "id": "AuTcMJWlmLiX"
      },
      "source": [
        "For an unsupervised model, not too bad right?\n",
        "\n",
        "Later we'll explore how we can boost the models performance even further through providing annotation labels created via the annotation tool: MedCATtrainer!"
      ]
    },
    {
      "cell_type": "code",
      "execution_count": null,
      "metadata": {
        "colab": {
          "base_uri": "https://localhost:8080/",
          "height": 35
        },
        "id": "0IN7FeHbhF5Y",
        "outputId": "273f8190-2f5b-4155-9255-4f39d642e25b"
      },
      "outputs": [
        {
          "data": {
            "application/vnd.google.colaboratory.intrinsic+json": {
              "type": "string"
            },
            "text/plain": [
              "'Erythema'"
            ]
          },
          "execution_count": 27,
          "metadata": {},
          "output_type": "execute_result"
        }
      ],
      "source": [
        "# If we want to convert a CUI back to its name\n",
        "cat.cdb.cui2preferred_name['C0041834']"
      ]
    },
    {
      "cell_type": "code",
      "execution_count": null,
      "metadata": {
        "colab": {
          "base_uri": "https://localhost:8080/"
        },
        "id": "FvkndApC_0eU",
        "outputId": "a89fb7bb-b78f-4298-f135-12cd0c399fa8"
      },
      "outputs": [
        {
          "data": {
            "text/plain": [
              "{'erythema', 'erythematous', 'redness'}"
            ]
          },
          "execution_count": 28,
          "metadata": {},
          "output_type": "execute_result"
        }
      ],
      "source": [
        "# To see all names in the concept db\n",
        "cat.cdb.cui2names['C0041834']"
      ]
    },
    {
      "cell_type": "code",
      "execution_count": null,
      "metadata": {
        "colab": {
          "base_uri": "https://localhost:8080/"
        },
        "id": "q5w8Y9Aqw1FY",
        "outputId": "c2c14e9f-a85d-41b2-c393-4eca1123684d"
      },
      "outputs": [
        {
          "data": {
            "text/plain": [
              "{'T047'}"
            ]
          },
          "execution_count": 29,
          "metadata": {},
          "output_type": "execute_result"
        }
      ],
      "source": [
        "# If we want to see the type_ids\n",
        "cat.cdb.cui2type_ids['C0041834']"
      ]
    },
    {
      "cell_type": "markdown",
      "metadata": {
        "id": "dzXf2V9PkaEj"
      },
      "source": [
        "Now that you have created a structured annotation dataset you can now use this for any number of downstream applications! \n",
        "\n",
        "But for now let's continue on with the task and explore the annotations by finding the UMLS cui and type_ids (TUI as it is from UMLS) and their corresponding list of documents in which they are mentioned."
      ]
    },
    {
      "cell_type": "code",
      "execution_count": null,
      "metadata": {
        "id": "X1n4f9HTy3di"
      },
      "outputs": [],
      "source": [
        "# This will be a map from CUI to a list of documents where it appears: {\"cui\": [<doc_id>, <doc_id>, ...], ..}\n",
        "cui_location = {}\n",
        "# Let's also save the type_ids location\n",
        "type_ids_location = {}"
      ]
    },
    {
      "cell_type": "code",
      "execution_count": null,
      "metadata": {
        "id": "sJaXR6rto5Tl"
      },
      "outputs": [],
      "source": [
        "# For the cui and thier corresponding documents\n",
        "for doc in list(results.keys()):\n",
        "  for annotation in list(results[doc]['entities'].values()):\n",
        "    if annotation['cui'] in cui_location:\n",
        "      cui_location[annotation['cui']].append(doc)\n",
        "    else:\n",
        "      cui_location[annotation['cui']] = [doc]\n"
      ]
    },
    {
      "cell_type": "code",
      "execution_count": null,
      "metadata": {
        "id": "AltdvluPvoaa"
      },
      "outputs": [],
      "source": [
        "# For the type_ids and their corresponding documents\n",
        "# Remember that a cui may map to more than one type_ids (one to many mapping)\n",
        "for cui in cui_location.keys():\n",
        "  type_ids_location[list(cat.cdb.cui2type_ids[cui])[0]] = cui_location[cui]"
      ]
    },
    {
      "cell_type": "code",
      "execution_count": null,
      "metadata": {
        "id": "_7lSXtHEVfgA"
      },
      "outputs": [],
      "source": [
        "# Save the data so that we don't have to do the annotation again\n",
        "pickle.dump(cui_location, open(DATA_DIR + \"cui_location.dat\", 'wb'))\n",
        "pickle.dump(type_ids_location, open(DATA_DIR + \"type_ids_location.dat\", 'wb'))"
      ]
    },
    {
      "cell_type": "code",
      "execution_count": null,
      "metadata": {
        "id": "Am1xTX25VfgC"
      },
      "outputs": [],
      "source": [
        "# Load\n",
        "cui_location = pickle.load(open(DATA_DIR + \"cui_location.dat\", 'rb'))\n",
        "type_ids_location = pickle.load(open(DATA_DIR + \"type_ids_location.dat\", 'rb'))"
      ]
    },
    {
      "cell_type": "markdown",
      "metadata": {
        "id": "1fkbtINHVfgF"
      },
      "source": [
        "## Visualise the annotation frequency\n",
        "Let's explore the annotation counts visually to double check that everything makes sense."
      ]
    },
    {
      "cell_type": "code",
      "execution_count": null,
      "metadata": {
        "id": "8lrAhiODVfgF"
      },
      "outputs": [],
      "source": [
        "# We are going to count the number of subjects (patients) for each CUI\n",
        "cui_subjects = {}\n",
        "cui_subjects_unique = {}\n",
        "for cui in cui_location:\n",
        "    for location in cui_location[cui]:\n",
        "        subject_id = data.iat[location, list(data.columns).index('subject_id')]\n",
        "        if cui in cui_subjects:\n",
        "            cui_subjects[cui].append(subject_id)\n",
        "            cui_subjects_unique[cui].add(subject_id)\n",
        "        else:\n",
        "            cui_subjects[cui] = [subject_id]\n",
        "            cui_subjects_unique[cui] = {subject_id}"
      ]
    },
    {
      "cell_type": "code",
      "execution_count": null,
      "metadata": {
        "id": "8u6jOrsJVfgH"
      },
      "outputs": [],
      "source": [
        "cui_nsubjects = [('cui', 'nsubjects')]\n",
        "for cui in cui_subjects_unique.keys():\n",
        "    cui_nsubjects.append((cui, len(cui_subjects_unique[cui])))\n",
        "df_cui_nsubjects = pd.DataFrame(cui_nsubjects[1:], columns=cui_nsubjects[0])"
      ]
    },
    {
      "cell_type": "markdown",
      "metadata": {
        "id": "0P1YlxKwVfgJ"
      },
      "source": [
        "Add a couple of columns that can be useful"
      ]
    },
    {
      "cell_type": "code",
      "execution_count": null,
      "metadata": {
        "id": "bgMVLkQLVfgK"
      },
      "outputs": [],
      "source": [
        "df_cui_nsubjects = df_cui_nsubjects.sort_values('nsubjects', ascending=False)\n",
        "# Add type_ids for each CUI\n",
        "df_cui_nsubjects['type_ids'] = ['unk'] * len(df_cui_nsubjects)\n",
        "cols = list(df_cui_nsubjects.columns)\n",
        "for i in range(len(df_cui_nsubjects)):\n",
        "    cui = df_cui_nsubjects.iat[i, cols.index('cui')]\n",
        "    type_ids = cat.cdb.cui2type_ids.get(cui, 'unk')\n",
        "    df_cui_nsubjects.iat[i, cols.index('type_ids')] = type_ids\n",
        "    \n",
        "# Add name for each CUI\n",
        "df_cui_nsubjects['name'] = ['unk'] * len(df_cui_nsubjects)\n",
        "cols = list(df_cui_nsubjects.columns)\n",
        "for i in range(len(df_cui_nsubjects)):\n",
        "    cui = df_cui_nsubjects.iat[i, cols.index('cui')]\n",
        "    name = cat.cdb.cui2preferred_name.get(cui, 'unk')\n",
        "    df_cui_nsubjects.iat[i, cols.index('name')] = name\n",
        "\n",
        "\n",
        "# Add the percentage column\n",
        "total_subjects = len(data['subject_id'].unique())\n",
        "df_cui_nsubjects['perc_subjects'] = (df_cui_nsubjects['nsubjects'] / total_subjects) * 100\n",
        "\n",
        "df_cui_nsubjects.reset_index(drop=True, inplace=True)"
      ]
    },
    {
      "cell_type": "code",
      "execution_count": null,
      "metadata": {
        "colab": {
          "base_uri": "https://localhost:8080/",
          "height": 187
        },
        "id": "xsaOGdQFgkFG",
        "outputId": "07dd5c45-aa5e-415c-e892-8f59c3d05163"
      },
      "outputs": [
        {
          "data": {
            "text/html": [
              "\n",
              "  <div id=\"df-91517e70-1e9a-4637-a986-05c4460dc9d4\">\n",
              "    <div class=\"colab-df-container\">\n",
              "      <div>\n",
              "<style scoped>\n",
              "    .dataframe tbody tr th:only-of-type {\n",
              "        vertical-align: middle;\n",
              "    }\n",
              "\n",
              "    .dataframe tbody tr th {\n",
              "        vertical-align: top;\n",
              "    }\n",
              "\n",
              "    .dataframe thead th {\n",
              "        text-align: right;\n",
              "    }\n",
              "</style>\n",
              "<table border=\"1\" class=\"dataframe\">\n",
              "  <thead>\n",
              "    <tr style=\"text-align: right;\">\n",
              "      <th></th>\n",
              "      <th>cui</th>\n",
              "      <th>nsubjects</th>\n",
              "      <th>type_ids</th>\n",
              "      <th>name</th>\n",
              "      <th>perc_subjects</th>\n",
              "    </tr>\n",
              "  </thead>\n",
              "  <tbody>\n",
              "    <tr>\n",
              "      <th>0</th>\n",
              "      <td>C0020538</td>\n",
              "      <td>123</td>\n",
              "      <td>{T047}</td>\n",
              "      <td>Hypertensive disease</td>\n",
              "      <td>67.582418</td>\n",
              "    </tr>\n",
              "    <tr>\n",
              "      <th>1</th>\n",
              "      <td>C0028754</td>\n",
              "      <td>83</td>\n",
              "      <td>{T047}</td>\n",
              "      <td>Obesity</td>\n",
              "      <td>45.604396</td>\n",
              "    </tr>\n",
              "    <tr>\n",
              "      <th>2</th>\n",
              "      <td>C0038454</td>\n",
              "      <td>64</td>\n",
              "      <td>{T047}</td>\n",
              "      <td>Cerebrovascular accident</td>\n",
              "      <td>35.164835</td>\n",
              "    </tr>\n",
              "    <tr>\n",
              "      <th>3</th>\n",
              "      <td>C0011847</td>\n",
              "      <td>61</td>\n",
              "      <td>{T047}</td>\n",
              "      <td>Diabetes</td>\n",
              "      <td>33.516484</td>\n",
              "    </tr>\n",
              "    <tr>\n",
              "      <th>4</th>\n",
              "      <td>C0085762</td>\n",
              "      <td>54</td>\n",
              "      <td>{T048}</td>\n",
              "      <td>Alcohol abuse</td>\n",
              "      <td>29.670330</td>\n",
              "    </tr>\n",
              "  </tbody>\n",
              "</table>\n",
              "</div>\n",
              "      <button class=\"colab-df-convert\" onclick=\"convertToInteractive('df-91517e70-1e9a-4637-a986-05c4460dc9d4')\"\n",
              "              title=\"Convert this dataframe to an interactive table.\"\n",
              "              style=\"display:none;\">\n",
              "        \n",
              "  <svg xmlns=\"http://www.w3.org/2000/svg\" height=\"24px\"viewBox=\"0 0 24 24\"\n",
              "       width=\"24px\">\n",
              "    <path d=\"M0 0h24v24H0V0z\" fill=\"none\"/>\n",
              "    <path d=\"M18.56 5.44l.94 2.06.94-2.06 2.06-.94-2.06-.94-.94-2.06-.94 2.06-2.06.94zm-11 1L8.5 8.5l.94-2.06 2.06-.94-2.06-.94L8.5 2.5l-.94 2.06-2.06.94zm10 10l.94 2.06.94-2.06 2.06-.94-2.06-.94-.94-2.06-.94 2.06-2.06.94z\"/><path d=\"M17.41 7.96l-1.37-1.37c-.4-.4-.92-.59-1.43-.59-.52 0-1.04.2-1.43.59L10.3 9.45l-7.72 7.72c-.78.78-.78 2.05 0 2.83L4 21.41c.39.39.9.59 1.41.59.51 0 1.02-.2 1.41-.59l7.78-7.78 2.81-2.81c.8-.78.8-2.07 0-2.86zM5.41 20L4 18.59l7.72-7.72 1.47 1.35L5.41 20z\"/>\n",
              "  </svg>\n",
              "      </button>\n",
              "      \n",
              "  <style>\n",
              "    .colab-df-container {\n",
              "      display:flex;\n",
              "      flex-wrap:wrap;\n",
              "      gap: 12px;\n",
              "    }\n",
              "\n",
              "    .colab-df-convert {\n",
              "      background-color: #E8F0FE;\n",
              "      border: none;\n",
              "      border-radius: 50%;\n",
              "      cursor: pointer;\n",
              "      display: none;\n",
              "      fill: #1967D2;\n",
              "      height: 32px;\n",
              "      padding: 0 0 0 0;\n",
              "      width: 32px;\n",
              "    }\n",
              "\n",
              "    .colab-df-convert:hover {\n",
              "      background-color: #E2EBFA;\n",
              "      box-shadow: 0px 1px 2px rgba(60, 64, 67, 0.3), 0px 1px 3px 1px rgba(60, 64, 67, 0.15);\n",
              "      fill: #174EA6;\n",
              "    }\n",
              "\n",
              "    [theme=dark] .colab-df-convert {\n",
              "      background-color: #3B4455;\n",
              "      fill: #D2E3FC;\n",
              "    }\n",
              "\n",
              "    [theme=dark] .colab-df-convert:hover {\n",
              "      background-color: #434B5C;\n",
              "      box-shadow: 0px 1px 3px 1px rgba(0, 0, 0, 0.15);\n",
              "      filter: drop-shadow(0px 1px 2px rgba(0, 0, 0, 0.3));\n",
              "      fill: #FFFFFF;\n",
              "    }\n",
              "  </style>\n",
              "\n",
              "      <script>\n",
              "        const buttonEl =\n",
              "          document.querySelector('#df-91517e70-1e9a-4637-a986-05c4460dc9d4 button.colab-df-convert');\n",
              "        buttonEl.style.display =\n",
              "          google.colab.kernel.accessAllowed ? 'block' : 'none';\n",
              "\n",
              "        async function convertToInteractive(key) {\n",
              "          const element = document.querySelector('#df-91517e70-1e9a-4637-a986-05c4460dc9d4');\n",
              "          const dataTable =\n",
              "            await google.colab.kernel.invokeFunction('convertToInteractive',\n",
              "                                                     [key], {});\n",
              "          if (!dataTable) return;\n",
              "\n",
              "          const docLinkHtml = 'Like what you see? Visit the ' +\n",
              "            '<a target=\"_blank\" href=https://colab.research.google.com/notebooks/data_table.ipynb>data table notebook</a>'\n",
              "            + ' to learn more about interactive tables.';\n",
              "          element.innerHTML = '';\n",
              "          dataTable['output_type'] = 'display_data';\n",
              "          await google.colab.output.renderOutput(dataTable, element);\n",
              "          const docLink = document.createElement('div');\n",
              "          docLink.innerHTML = docLinkHtml;\n",
              "          element.appendChild(docLink);\n",
              "        }\n",
              "      </script>\n",
              "    </div>\n",
              "  </div>\n",
              "  "
            ],
            "text/plain": [
              "        cui  nsubjects type_ids                      name  perc_subjects\n",
              "0  C0020538        123   {T047}      Hypertensive disease      67.582418\n",
              "1  C0028754         83   {T047}                   Obesity      45.604396\n",
              "2  C0038454         64   {T047}  Cerebrovascular accident      35.164835\n",
              "3  C0011847         61   {T047}                  Diabetes      33.516484\n",
              "4  C0085762         54   {T048}             Alcohol abuse      29.670330"
            ]
          },
          "execution_count": 38,
          "metadata": {},
          "output_type": "execute_result"
        }
      ],
      "source": [
        "# Inspect newly created df\n",
        "df_cui_nsubjects.head()"
      ]
    },
    {
      "cell_type": "code",
      "execution_count": null,
      "metadata": {
        "colab": {
          "base_uri": "https://localhost:8080/",
          "height": 1000
        },
        "id": "TupbSS6OVfgM",
        "outputId": "e7bc6e00-9a35-42e4-8855-66648cab06fa"
      },
      "outputs": [
        {
          "data": {
            "image/png": "[encoded data removed]",
            "text/plain": [
              "<Figure size 500x1200 with 1 Axes>"
            ]
          },
          "metadata": {},
          "output_type": "display_data"
        }
      ],
      "source": [
        "# Plot the top 30 diseases\n",
        "sns.reset_defaults()\n",
        "sns.set(\n",
        "    rc={'figure.figsize':(5,12)}, \n",
        "    style=\"whitegrid\",\n",
        "    palette='pastel'\n",
        ")\n",
        "f, ax = plt.subplots()\n",
        "_data = df_cui_nsubjects.iloc[0:30]\n",
        "sns.barplot(x=\"perc_subjects\", y=\"name\", data=_data, label=\"Disorder Name\", color=\"b\")\n",
        "_ = ax.set(xlim=(0, 70), ylabel=\"Disease Name\", xlabel=\"Percentage of patients with disease\")\n",
        "plt.show()"
      ]
    },
    {
      "cell_type": "markdown",
      "metadata": {
        "id": "-ChkW6MiVfgO"
      },
      "source": [
        "# Preparing data for supervised training (MedCATtrainer)\n",
        "\n",
        "As we want to do some fine-tuning on the models and also some meta-annotations (e.g. Status and Temporality), we'll take the top 100 CUIs from each TUI and for each take 2 examples. We'll do this because randomly choosing documents will give us only (most likely) the concepts on the very top by frequency (especially when there is a large drop between the top concepts).\n",
        "\n",
        "The required output format for supervised training via MedCATtrainer is CSV with `columns=(name, text)`"
      ]
    },
    {
      "cell_type": "code",
      "execution_count": null,
      "metadata": {
        "colab": {
          "base_uri": "https://localhost:8080/",
          "height": 187
        },
        "id": "9rp0fn5MfUQS",
        "outputId": "f75d12db-f6de-4150-b756-6561926fc5f0"
      },
      "outputs": [
        {
          "data": {
            "text/html": [
              "\n",
              "  <div id=\"df-8c7dfb95-eb22-48a1-9bd0-32b16abe6278\">\n",
              "    <div class=\"colab-df-container\">\n",
              "      <div>\n",
              "<style scoped>\n",
              "    .dataframe tbody tr th:only-of-type {\n",
              "        vertical-align: middle;\n",
              "    }\n",
              "\n",
              "    .dataframe tbody tr th {\n",
              "        vertical-align: top;\n",
              "    }\n",
              "\n",
              "    .dataframe thead th {\n",
              "        text-align: right;\n",
              "    }\n",
              "</style>\n",
              "<table border=\"1\" class=\"dataframe\">\n",
              "  <thead>\n",
              "    <tr style=\"text-align: right;\">\n",
              "      <th></th>\n",
              "      <th>cui</th>\n",
              "      <th>nsubjects</th>\n",
              "      <th>type_ids</th>\n",
              "      <th>name</th>\n",
              "      <th>perc_subjects</th>\n",
              "    </tr>\n",
              "  </thead>\n",
              "  <tbody>\n",
              "    <tr>\n",
              "      <th>0</th>\n",
              "      <td>C0020538</td>\n",
              "      <td>123</td>\n",
              "      <td>{T047}</td>\n",
              "      <td>Hypertensive disease</td>\n",
              "      <td>67.582418</td>\n",
              "    </tr>\n",
              "    <tr>\n",
              "      <th>1</th>\n",
              "      <td>C0028754</td>\n",
              "      <td>83</td>\n",
              "      <td>{T047}</td>\n",
              "      <td>Obesity</td>\n",
              "      <td>45.604396</td>\n",
              "    </tr>\n",
              "    <tr>\n",
              "      <th>2</th>\n",
              "      <td>C0038454</td>\n",
              "      <td>64</td>\n",
              "      <td>{T047}</td>\n",
              "      <td>Cerebrovascular accident</td>\n",
              "      <td>35.164835</td>\n",
              "    </tr>\n",
              "    <tr>\n",
              "      <th>3</th>\n",
              "      <td>C0011847</td>\n",
              "      <td>61</td>\n",
              "      <td>{T047}</td>\n",
              "      <td>Diabetes</td>\n",
              "      <td>33.516484</td>\n",
              "    </tr>\n",
              "    <tr>\n",
              "      <th>4</th>\n",
              "      <td>C0085762</td>\n",
              "      <td>54</td>\n",
              "      <td>{T048}</td>\n",
              "      <td>Alcohol abuse</td>\n",
              "      <td>29.670330</td>\n",
              "    </tr>\n",
              "  </tbody>\n",
              "</table>\n",
              "</div>\n",
              "      <button class=\"colab-df-convert\" onclick=\"convertToInteractive('df-8c7dfb95-eb22-48a1-9bd0-32b16abe6278')\"\n",
              "              title=\"Convert this dataframe to an interactive table.\"\n",
              "              style=\"display:none;\">\n",
              "        \n",
              "  <svg xmlns=\"http://www.w3.org/2000/svg\" height=\"24px\"viewBox=\"0 0 24 24\"\n",
              "       width=\"24px\">\n",
              "    <path d=\"M0 0h24v24H0V0z\" fill=\"none\"/>\n",
              "    <path d=\"M18.56 5.44l.94 2.06.94-2.06 2.06-.94-2.06-.94-.94-2.06-.94 2.06-2.06.94zm-11 1L8.5 8.5l.94-2.06 2.06-.94-2.06-.94L8.5 2.5l-.94 2.06-2.06.94zm10 10l.94 2.06.94-2.06 2.06-.94-2.06-.94-.94-2.06-.94 2.06-2.06.94z\"/><path d=\"M17.41 7.96l-1.37-1.37c-.4-.4-.92-.59-1.43-.59-.52 0-1.04.2-1.43.59L10.3 9.45l-7.72 7.72c-.78.78-.78 2.05 0 2.83L4 21.41c.39.39.9.59 1.41.59.51 0 1.02-.2 1.41-.59l7.78-7.78 2.81-2.81c.8-.78.8-2.07 0-2.86zM5.41 20L4 18.59l7.72-7.72 1.47 1.35L5.41 20z\"/>\n",
              "  </svg>\n",
              "      </button>\n",
              "      \n",
              "  <style>\n",
              "    .colab-df-container {\n",
              "      display:flex;\n",
              "      flex-wrap:wrap;\n",
              "      gap: 12px;\n",
              "    }\n",
              "\n",
              "    .colab-df-convert {\n",
              "      background-color: #E8F0FE;\n",
              "      border: none;\n",
              "      border-radius: 50%;\n",
              "      cursor: pointer;\n",
              "      display: none;\n",
              "      fill: #1967D2;\n",
              "      height: 32px;\n",
              "      padding: 0 0 0 0;\n",
              "      width: 32px;\n",
              "    }\n",
              "\n",
              "    .colab-df-convert:hover {\n",
              "      background-color: #E2EBFA;\n",
              "      box-shadow: 0px 1px 2px rgba(60, 64, 67, 0.3), 0px 1px 3px 1px rgba(60, 64, 67, 0.15);\n",
              "      fill: #174EA6;\n",
              "    }\n",
              "\n",
              "    [theme=dark] .colab-df-convert {\n",
              "      background-color: #3B4455;\n",
              "      fill: #D2E3FC;\n",
              "    }\n",
              "\n",
              "    [theme=dark] .colab-df-convert:hover {\n",
              "      background-color: #434B5C;\n",
              "      box-shadow: 0px 1px 3px 1px rgba(0, 0, 0, 0.15);\n",
              "      filter: drop-shadow(0px 1px 2px rgba(0, 0, 0, 0.3));\n",
              "      fill: #FFFFFF;\n",
              "    }\n",
              "  </style>\n",
              "\n",
              "      <script>\n",
              "        const buttonEl =\n",
              "          document.querySelector('#df-8c7dfb95-eb22-48a1-9bd0-32b16abe6278 button.colab-df-convert');\n",
              "        buttonEl.style.display =\n",
              "          google.colab.kernel.accessAllowed ? 'block' : 'none';\n",
              "\n",
              "        async function convertToInteractive(key) {\n",
              "          const element = document.querySelector('#df-8c7dfb95-eb22-48a1-9bd0-32b16abe6278');\n",
              "          const dataTable =\n",
              "            await google.colab.kernel.invokeFunction('convertToInteractive',\n",
              "                                                     [key], {});\n",
              "          if (!dataTable) return;\n",
              "\n",
              "          const docLinkHtml = 'Like what you see? Visit the ' +\n",
              "            '<a target=\"_blank\" href=https://colab.research.google.com/notebooks/data_table.ipynb>data table notebook</a>'\n",
              "            + ' to learn more about interactive tables.';\n",
              "          element.innerHTML = '';\n",
              "          dataTable['output_type'] = 'display_data';\n",
              "          await google.colab.output.renderOutput(dataTable, element);\n",
              "          const docLink = document.createElement('div');\n",
              "          docLink.innerHTML = docLinkHtml;\n",
              "          element.appendChild(docLink);\n",
              "        }\n",
              "      </script>\n",
              "    </div>\n",
              "  </div>\n",
              "  "
            ],
            "text/plain": [
              "        cui  nsubjects type_ids                      name  perc_subjects\n",
              "0  C0020538        123   {T047}      Hypertensive disease      67.582418\n",
              "1  C0028754         83   {T047}                   Obesity      45.604396\n",
              "2  C0038454         64   {T047}  Cerebrovascular accident      35.164835\n",
              "3  C0011847         61   {T047}                  Diabetes      33.516484\n",
              "4  C0085762         54   {T048}             Alcohol abuse      29.670330"
            ]
          },
          "execution_count": 40,
          "metadata": {},
          "output_type": "execute_result"
        }
      ],
      "source": [
        "df_cui_nsubjects.head()"
      ]
    },
    {
      "cell_type": "code",
      "execution_count": null,
      "metadata": {
        "id": "ghSpoAbJVfgO"
      },
      "outputs": [],
      "source": [
        "# For each of the top 30 diseases/mental_disorders take 2 examples of documents/text\n",
        "#where they appear\n",
        "nexamples = 2\n",
        "size = 40\n",
        "loc_047_top = []\n",
        "loc_048_top = []\n",
        "\n",
        "for cui in df_cui_nsubjects[df_cui_nsubjects['type_ids'].apply(lambda x: 'T047' in x)]['cui'].values[0:size]:\n",
        "    loc_047_top.extend(np.array(cui_location[cui])[np.random.randint(0, len(cui_location[cui]), nexamples)])\n",
        "    \n",
        "for cui in df_cui_nsubjects[df_cui_nsubjects['type_ids'].apply(lambda x: 'T048' in x)]['cui'].values[0:size]:\n",
        "    loc_048_top.extend(np.array(cui_location[cui])[np.random.randint(0, len(cui_location[cui]), nexamples)])\n",
        "\n",
        "data_047_top = data.iloc[loc_047_top]\n",
        "data_048_top = data.iloc[loc_048_top]"
      ]
    },
    {
      "cell_type": "code",
      "execution_count": null,
      "metadata": {
        "id": "7L8UhCSsVfgQ"
      },
      "outputs": [],
      "source": [
        "# Combine everything\n",
        "train_data = pd.concat([data_047_top, data_048_top])"
      ]
    },
    {
      "cell_type": "code",
      "execution_count": null,
      "metadata": {
        "colab": {
          "base_uri": "https://localhost:8080/",
          "height": 231
        },
        "id": "kUsJajw8fOMe",
        "outputId": "959a2080-18a7-4271-8b47-f84dd929c741"
      },
      "outputs": [
        {
          "data": {
            "text/html": [
              "\n",
              "  <div id=\"df-3d8ea120-3d33-4277-bc6c-fb3721e890e9\">\n",
              "    <div class=\"colab-df-container\">\n",
              "      <div>\n",
              "<style scoped>\n",
              "    .dataframe tbody tr th:only-of-type {\n",
              "        vertical-align: middle;\n",
              "    }\n",
              "\n",
              "    .dataframe tbody tr th {\n",
              "        vertical-align: top;\n",
              "    }\n",
              "\n",
              "    .dataframe thead th {\n",
              "        text-align: right;\n",
              "    }\n",
              "</style>\n",
              "<table border=\"1\" class=\"dataframe\">\n",
              "  <thead>\n",
              "    <tr style=\"text-align: right;\">\n",
              "      <th></th>\n",
              "      <th>Unnamed: 0_x</th>\n",
              "      <th>subject_id</th>\n",
              "      <th>chartdate</th>\n",
              "      <th>category</th>\n",
              "      <th>text</th>\n",
              "      <th>create_year</th>\n",
              "      <th>Unnamed: 0_y</th>\n",
              "      <th>gender</th>\n",
              "      <th>dob</th>\n",
              "      <th>dob_year</th>\n",
              "      <th>age_year</th>\n",
              "    </tr>\n",
              "  </thead>\n",
              "  <tbody>\n",
              "    <tr>\n",
              "      <th>277</th>\n",
              "      <td>537</td>\n",
              "      <td>71</td>\n",
              "      <td>2070-01-01</td>\n",
              "      <td>SOAP / Chart / Progress Notes</td>\n",
              "      <td>SUBJECTIVE:,  The patient is a 62-year-old whi...</td>\n",
              "      <td>2070</td>\n",
              "      <td>71</td>\n",
              "      <td>F</td>\n",
              "      <td>2018-01-01</td>\n",
              "      <td>2018</td>\n",
              "      <td>52</td>\n",
              "    </tr>\n",
              "    <tr>\n",
              "      <th>123</th>\n",
              "      <td>254</td>\n",
              "      <td>32</td>\n",
              "      <td>2069-01-01</td>\n",
              "      <td>Cardiovascular / Pulmonary</td>\n",
              "      <td>CHIEF COMPLAINT:,  Rule out obstructive sleep ...</td>\n",
              "      <td>2069</td>\n",
              "      <td>32</td>\n",
              "      <td>M</td>\n",
              "      <td>2018-01-01</td>\n",
              "      <td>2018</td>\n",
              "      <td>51</td>\n",
              "    </tr>\n",
              "    <tr>\n",
              "      <th>170</th>\n",
              "      <td>320</td>\n",
              "      <td>43</td>\n",
              "      <td>2063-01-01</td>\n",
              "      <td>Consult - History and Phy.</td>\n",
              "      <td>HISTORY OF PRESENT ILLNESS:,  This is a 55-yea...</td>\n",
              "      <td>2063</td>\n",
              "      <td>43</td>\n",
              "      <td>F</td>\n",
              "      <td>2018-01-01</td>\n",
              "      <td>2018</td>\n",
              "      <td>45</td>\n",
              "    </tr>\n",
              "    <tr>\n",
              "      <th>24</th>\n",
              "      <td>34</td>\n",
              "      <td>6</td>\n",
              "      <td>2088-01-01</td>\n",
              "      <td>Gastroenterology</td>\n",
              "      <td>CHIEF COMPLAINT:,  GI bleed.,HISTORY OF PRESEN...</td>\n",
              "      <td>2088</td>\n",
              "      <td>6</td>\n",
              "      <td>F</td>\n",
              "      <td>2018-01-01</td>\n",
              "      <td>2018</td>\n",
              "      <td>70</td>\n",
              "    </tr>\n",
              "    <tr>\n",
              "      <th>809</th>\n",
              "      <td>1563</td>\n",
              "      <td>219</td>\n",
              "      <td>2077-01-01</td>\n",
              "      <td>General Medicine</td>\n",
              "      <td>CHIEF COMPLAINT:, Altered mental status.,HISTO...</td>\n",
              "      <td>2077</td>\n",
              "      <td>219</td>\n",
              "      <td>M</td>\n",
              "      <td>2018-01-01</td>\n",
              "      <td>2018</td>\n",
              "      <td>59</td>\n",
              "    </tr>\n",
              "  </tbody>\n",
              "</table>\n",
              "</div>\n",
              "      <button class=\"colab-df-convert\" onclick=\"convertToInteractive('df-3d8ea120-3d33-4277-bc6c-fb3721e890e9')\"\n",
              "              title=\"Convert this dataframe to an interactive table.\"\n",
              "              style=\"display:none;\">\n",
              "        \n",
              "  <svg xmlns=\"http://www.w3.org/2000/svg\" height=\"24px\"viewBox=\"0 0 24 24\"\n",
              "       width=\"24px\">\n",
              "    <path d=\"M0 0h24v24H0V0z\" fill=\"none\"/>\n",
              "    <path d=\"M18.56 5.44l.94 2.06.94-2.06 2.06-.94-2.06-.94-.94-2.06-.94 2.06-2.06.94zm-11 1L8.5 8.5l.94-2.06 2.06-.94-2.06-.94L8.5 2.5l-.94 2.06-2.06.94zm10 10l.94 2.06.94-2.06 2.06-.94-2.06-.94-.94-2.06-.94 2.06-2.06.94z\"/><path d=\"M17.41 7.96l-1.37-1.37c-.4-.4-.92-.59-1.43-.59-.52 0-1.04.2-1.43.59L10.3 9.45l-7.72 7.72c-.78.78-.78 2.05 0 2.83L4 21.41c.39.39.9.59 1.41.59.51 0 1.02-.2 1.41-.59l7.78-7.78 2.81-2.81c.8-.78.8-2.07 0-2.86zM5.41 20L4 18.59l7.72-7.72 1.47 1.35L5.41 20z\"/>\n",
              "  </svg>\n",
              "      </button>\n",
              "      \n",
              "  <style>\n",
              "    .colab-df-container {\n",
              "      display:flex;\n",
              "      flex-wrap:wrap;\n",
              "      gap: 12px;\n",
              "    }\n",
              "\n",
              "    .colab-df-convert {\n",
              "      background-color: #E8F0FE;\n",
              "      border: none;\n",
              "      border-radius: 50%;\n",
              "      cursor: pointer;\n",
              "      display: none;\n",
              "      fill: #1967D2;\n",
              "      height: 32px;\n",
              "      padding: 0 0 0 0;\n",
              "      width: 32px;\n",
              "    }\n",
              "\n",
              "    .colab-df-convert:hover {\n",
              "      background-color: #E2EBFA;\n",
              "      box-shadow: 0px 1px 2px rgba(60, 64, 67, 0.3), 0px 1px 3px 1px rgba(60, 64, 67, 0.15);\n",
              "      fill: #174EA6;\n",
              "    }\n",
              "\n",
              "    [theme=dark] .colab-df-convert {\n",
              "      background-color: #3B4455;\n",
              "      fill: #D2E3FC;\n",
              "    }\n",
              "\n",
              "    [theme=dark] .colab-df-convert:hover {\n",
              "      background-color: #434B5C;\n",
              "      box-shadow: 0px 1px 3px 1px rgba(0, 0, 0, 0.15);\n",
              "      filter: drop-shadow(0px 1px 2px rgba(0, 0, 0, 0.3));\n",
              "      fill: #FFFFFF;\n",
              "    }\n",
              "  </style>\n",
              "\n",
              "      <script>\n",
              "        const buttonEl =\n",
              "          document.querySelector('#df-3d8ea120-3d33-4277-bc6c-fb3721e890e9 button.colab-df-convert');\n",
              "        buttonEl.style.display =\n",
              "          google.colab.kernel.accessAllowed ? 'block' : 'none';\n",
              "\n",
              "        async function convertToInteractive(key) {\n",
              "          const element = document.querySelector('#df-3d8ea120-3d33-4277-bc6c-fb3721e890e9');\n",
              "          const dataTable =\n",
              "            await google.colab.kernel.invokeFunction('convertToInteractive',\n",
              "                                                     [key], {});\n",
              "          if (!dataTable) return;\n",
              "\n",
              "          const docLinkHtml = 'Like what you see? Visit the ' +\n",
              "            '<a target=\"_blank\" href=https://colab.research.google.com/notebooks/data_table.ipynb>data table notebook</a>'\n",
              "            + ' to learn more about interactive tables.';\n",
              "          element.innerHTML = '';\n",
              "          dataTable['output_type'] = 'display_data';\n",
              "          await google.colab.output.renderOutput(dataTable, element);\n",
              "          const docLink = document.createElement('div');\n",
              "          docLink.innerHTML = docLinkHtml;\n",
              "          element.appendChild(docLink);\n",
              "        }\n",
              "      </script>\n",
              "    </div>\n",
              "  </div>\n",
              "  "
            ],
            "text/plain": [
              "     Unnamed: 0_x  subject_id   chartdate                        category  \\\n",
              "277           537          71  2070-01-01   SOAP / Chart / Progress Notes   \n",
              "123           254          32  2069-01-01      Cardiovascular / Pulmonary   \n",
              "170           320          43  2063-01-01      Consult - History and Phy.   \n",
              "24             34           6  2088-01-01                Gastroenterology   \n",
              "809          1563         219  2077-01-01                General Medicine   \n",
              "\n",
              "                                                  text  create_year  \\\n",
              "277  SUBJECTIVE:,  The patient is a 62-year-old whi...         2070   \n",
              "123  CHIEF COMPLAINT:,  Rule out obstructive sleep ...         2069   \n",
              "170  HISTORY OF PRESENT ILLNESS:,  This is a 55-yea...         2063   \n",
              "24   CHIEF COMPLAINT:,  GI bleed.,HISTORY OF PRESEN...         2088   \n",
              "809  CHIEF COMPLAINT:, Altered mental status.,HISTO...         2077   \n",
              "\n",
              "     Unnamed: 0_y gender         dob  dob_year  age_year  \n",
              "277            71      F  2018-01-01      2018        52  \n",
              "123            32      M  2018-01-01      2018        51  \n",
              "170            43      F  2018-01-01      2018        45  \n",
              "24              6      F  2018-01-01      2018        70  \n",
              "809           219      M  2018-01-01      2018        59  "
            ]
          },
          "execution_count": 43,
          "metadata": {},
          "output_type": "execute_result"
        }
      ],
      "source": [
        "train_data.head()"
      ]
    },
    {
      "cell_type": "code",
      "execution_count": null,
      "metadata": {
        "colab": {
          "base_uri": "https://localhost:8080/",
          "height": 187
        },
        "id": "n-ds8nosVfgR",
        "outputId": "033a4404-9f1a-4b81-e964-a2e9edd7d19f"
      },
      "outputs": [
        {
          "data": {
            "text/html": [
              "\n",
              "  <div id=\"df-5743d6dd-dc77-4752-9cab-90ce82a2cb28\">\n",
              "    <div class=\"colab-df-container\">\n",
              "      <div>\n",
              "<style scoped>\n",
              "    .dataframe tbody tr th:only-of-type {\n",
              "        vertical-align: middle;\n",
              "    }\n",
              "\n",
              "    .dataframe tbody tr th {\n",
              "        vertical-align: top;\n",
              "    }\n",
              "\n",
              "    .dataframe thead th {\n",
              "        text-align: right;\n",
              "    }\n",
              "</style>\n",
              "<table border=\"1\" class=\"dataframe\">\n",
              "  <thead>\n",
              "    <tr style=\"text-align: right;\">\n",
              "      <th></th>\n",
              "      <th>name</th>\n",
              "      <th>text</th>\n",
              "    </tr>\n",
              "  </thead>\n",
              "  <tbody>\n",
              "    <tr>\n",
              "      <th>0</th>\n",
              "      <td>537</td>\n",
              "      <td>SUBJECTIVE:,  The patient is a 62-year-old whi...</td>\n",
              "    </tr>\n",
              "    <tr>\n",
              "      <th>1</th>\n",
              "      <td>254</td>\n",
              "      <td>CHIEF COMPLAINT:,  Rule out obstructive sleep ...</td>\n",
              "    </tr>\n",
              "    <tr>\n",
              "      <th>2</th>\n",
              "      <td>320</td>\n",
              "      <td>HISTORY OF PRESENT ILLNESS:,  This is a 55-yea...</td>\n",
              "    </tr>\n",
              "    <tr>\n",
              "      <th>3</th>\n",
              "      <td>34</td>\n",
              "      <td>CHIEF COMPLAINT:,  GI bleed.,HISTORY OF PRESEN...</td>\n",
              "    </tr>\n",
              "    <tr>\n",
              "      <th>4</th>\n",
              "      <td>1563</td>\n",
              "      <td>CHIEF COMPLAINT:, Altered mental status.,HISTO...</td>\n",
              "    </tr>\n",
              "  </tbody>\n",
              "</table>\n",
              "</div>\n",
              "      <button class=\"colab-df-convert\" onclick=\"convertToInteractive('df-5743d6dd-dc77-4752-9cab-90ce82a2cb28')\"\n",
              "              title=\"Convert this dataframe to an interactive table.\"\n",
              "              style=\"display:none;\">\n",
              "        \n",
              "  <svg xmlns=\"http://www.w3.org/2000/svg\" height=\"24px\"viewBox=\"0 0 24 24\"\n",
              "       width=\"24px\">\n",
              "    <path d=\"M0 0h24v24H0V0z\" fill=\"none\"/>\n",
              "    <path d=\"M18.56 5.44l.94 2.06.94-2.06 2.06-.94-2.06-.94-.94-2.06-.94 2.06-2.06.94zm-11 1L8.5 8.5l.94-2.06 2.06-.94-2.06-.94L8.5 2.5l-.94 2.06-2.06.94zm10 10l.94 2.06.94-2.06 2.06-.94-2.06-.94-.94-2.06-.94 2.06-2.06.94z\"/><path d=\"M17.41 7.96l-1.37-1.37c-.4-.4-.92-.59-1.43-.59-.52 0-1.04.2-1.43.59L10.3 9.45l-7.72 7.72c-.78.78-.78 2.05 0 2.83L4 21.41c.39.39.9.59 1.41.59.51 0 1.02-.2 1.41-.59l7.78-7.78 2.81-2.81c.8-.78.8-2.07 0-2.86zM5.41 20L4 18.59l7.72-7.72 1.47 1.35L5.41 20z\"/>\n",
              "  </svg>\n",
              "      </button>\n",
              "      \n",
              "  <style>\n",
              "    .colab-df-container {\n",
              "      display:flex;\n",
              "      flex-wrap:wrap;\n",
              "      gap: 12px;\n",
              "    }\n",
              "\n",
              "    .colab-df-convert {\n",
              "      background-color: #E8F0FE;\n",
              "      border: none;\n",
              "      border-radius: 50%;\n",
              "      cursor: pointer;\n",
              "      display: none;\n",
              "      fill: #1967D2;\n",
              "      height: 32px;\n",
              "      padding: 0 0 0 0;\n",
              "      width: 32px;\n",
              "    }\n",
              "\n",
              "    .colab-df-convert:hover {\n",
              "      background-color: #E2EBFA;\n",
              "      box-shadow: 0px 1px 2px rgba(60, 64, 67, 0.3), 0px 1px 3px 1px rgba(60, 64, 67, 0.15);\n",
              "      fill: #174EA6;\n",
              "    }\n",
              "\n",
              "    [theme=dark] .colab-df-convert {\n",
              "      background-color: #3B4455;\n",
              "      fill: #D2E3FC;\n",
              "    }\n",
              "\n",
              "    [theme=dark] .colab-df-convert:hover {\n",
              "      background-color: #434B5C;\n",
              "      box-shadow: 0px 1px 3px 1px rgba(0, 0, 0, 0.15);\n",
              "      filter: drop-shadow(0px 1px 2px rgba(0, 0, 0, 0.3));\n",
              "      fill: #FFFFFF;\n",
              "    }\n",
              "  </style>\n",
              "\n",
              "      <script>\n",
              "        const buttonEl =\n",
              "          document.querySelector('#df-5743d6dd-dc77-4752-9cab-90ce82a2cb28 button.colab-df-convert');\n",
              "        buttonEl.style.display =\n",
              "          google.colab.kernel.accessAllowed ? 'block' : 'none';\n",
              "\n",
              "        async function convertToInteractive(key) {\n",
              "          const element = document.querySelector('#df-5743d6dd-dc77-4752-9cab-90ce82a2cb28');\n",
              "          const dataTable =\n",
              "            await google.colab.kernel.invokeFunction('convertToInteractive',\n",
              "                                                     [key], {});\n",
              "          if (!dataTable) return;\n",
              "\n",
              "          const docLinkHtml = 'Like what you see? Visit the ' +\n",
              "            '<a target=\"_blank\" href=https://colab.research.google.com/notebooks/data_table.ipynb>data table notebook</a>'\n",
              "            + ' to learn more about interactive tables.';\n",
              "          element.innerHTML = '';\n",
              "          dataTable['output_type'] = 'display_data';\n",
              "          await google.colab.output.renderOutput(dataTable, element);\n",
              "          const docLink = document.createElement('div');\n",
              "          docLink.innerHTML = docLinkHtml;\n",
              "          element.appendChild(docLink);\n",
              "        }\n",
              "      </script>\n",
              "    </div>\n",
              "  </div>\n",
              "  "
            ],
            "text/plain": [
              "   name                                               text\n",
              "0   537  SUBJECTIVE:,  The patient is a 62-year-old whi...\n",
              "1   254  CHIEF COMPLAINT:,  Rule out obstructive sleep ...\n",
              "2   320  HISTORY OF PRESENT ILLNESS:,  This is a 55-yea...\n",
              "3    34  CHIEF COMPLAINT:,  GI bleed.,HISTORY OF PRESEN...\n",
              "4  1563  CHIEF COMPLAINT:, Altered mental status.,HISTO..."
            ]
          },
          "execution_count": 44,
          "metadata": {},
          "output_type": "execute_result"
        }
      ],
      "source": [
        "train_data = train_data.rename(columns={'Unnamed: 0_x': \"name\"})\n",
        "train_data = train_data[['name', 'text']]\n",
        "train_data.reset_index(drop=True, inplace=True)\n",
        "train_data.head()"
      ]
    },
    {
      "cell_type": "code",
      "execution_count": null,
      "metadata": {
        "id": "HvrkaDbBVfgU"
      },
      "outputs": [],
      "source": [
        "# Remove duplicates if we have them. \n",
        "train_data = train_data.drop_duplicates(['text'])\n",
        "\n",
        "# Save the data so that it can be imported into MedCATtrainer\n",
        "train_data.to_csv(DATA_DIR + \"train_data.csv\", index=False)"
      ]
    },
    {
      "cell_type": "markdown",
      "metadata": {
        "id": "dMyoHDjPxxAH"
      },
      "source": [
        "End of Tutorial"
      ]
    }
  ],
  "metadata": {
    "colab": {
      "collapsed_sections": [],
      "name": "MedCAT Tutorial | Part 3.2 - Extracting Diseases from Electronic Health Records.ipynb",
      "provenance": []
    },
    "kernelspec": {
      "display_name": "Python 3",
      "language": "python",
      "name": "python3"
    },
    "language_info": {
      "codemirror_mode": {
        "name": "ipython",
        "version": 3
      },
      "file_extension": ".py",
      "mimetype": "text/x-python",
      "name": "python",
      "nbconvert_exporter": "python",
      "pygments_lexer": "ipython3",
      "version": "3.7.0"
    },
    "widgets": {
      "application/vnd.jupyter.widget-state+json": {
        "2a24d095ccdc4555ab17c1ee26fdce54": {
          "model_module": "@jupyter-widgets/controls",
          "model_module_version": "1.5.0",
          "model_name": "HTMLModel",
          "state": {
            "_dom_classes": [],
            "_model_module": "@jupyter-widgets/controls",
            "_model_module_version": "1.5.0",
            "_model_name": "HTMLModel",
            "_view_count": null,
            "_view_module": "@jupyter-widgets/controls",
            "_view_module_version": "1.5.0",
            "_view_name": "HTMLView",
            "description": "",
            "description_tooltip": null,
            "layout": "IPY_MODEL_93c243f06a494585a0ca6ba3f9433d10",
            "placeholder": "​",
            "style": "IPY_MODEL_464e2e851fb34833a588648e759a6d6f",
            "value": " 1088/1088 [13:11&lt;00:00,  9.30it/s]"
          }
        },
        "43ad8cc45ea349529575b4edab41e781": {
          "model_module": "@jupyter-widgets/base",
          "model_module_version": "1.2.0",
          "model_name": "LayoutModel",
          "state": {
            "_model_module": "@jupyter-widgets/base",
            "_model_module_version": "1.2.0",
            "_model_name": "LayoutModel",
            "_view_count": null,
            "_view_module": "@jupyter-widgets/base",
            "_view_module_version": "1.2.0",
            "_view_name": "LayoutView",
            "align_content": null,
            "align_items": null,
            "align_self": null,
            "border": null,
            "bottom": null,
            "display": null,
            "flex": null,
            "flex_flow": null,
            "grid_area": null,
            "grid_auto_columns": null,
            "grid_auto_flow": null,
            "grid_auto_rows": null,
            "grid_column": null,
            "grid_gap": null,
            "grid_row": null,
            "grid_template_areas": null,
            "grid_template_columns": null,
            "grid_template_rows": null,
            "height": null,
            "justify_content": null,
            "justify_items": null,
            "left": null,
            "margin": null,
            "max_height": null,
            "max_width": null,
            "min_height": null,
            "min_width": null,
            "object_fit": null,
            "object_position": null,
            "order": null,
            "overflow": null,
            "overflow_x": null,
            "overflow_y": null,
            "padding": null,
            "right": null,
            "top": null,
            "visibility": null,
            "width": null
          }
        },
        "464e2e851fb34833a588648e759a6d6f": {
          "model_module": "@jupyter-widgets/controls",
          "model_module_version": "1.5.0",
          "model_name": "DescriptionStyleModel",
          "state": {
            "_model_module": "@jupyter-widgets/controls",
            "_model_module_version": "1.5.0",
            "_model_name": "DescriptionStyleModel",
            "_view_count": null,
            "_view_module": "@jupyter-widgets/base",
            "_view_module_version": "1.2.0",
            "_view_name": "StyleView",
            "description_width": ""
          }
        },
        "5bfe3797b58a4228aa1aedd7bab731f8": {
          "model_module": "@jupyter-widgets/base",
          "model_module_version": "1.2.0",
          "model_name": "LayoutModel",
          "state": {
            "_model_module": "@jupyter-widgets/base",
            "_model_module_version": "1.2.0",
            "_model_name": "LayoutModel",
            "_view_count": null,
            "_view_module": "@jupyter-widgets/base",
            "_view_module_version": "1.2.0",
            "_view_name": "LayoutView",
            "align_content": null,
            "align_items": null,
            "align_self": null,
            "border": null,
            "bottom": null,
            "display": null,
            "flex": null,
            "flex_flow": null,
            "grid_area": null,
            "grid_auto_columns": null,
            "grid_auto_flow": null,
            "grid_auto_rows": null,
            "grid_column": null,
            "grid_gap": null,
            "grid_row": null,
            "grid_template_areas": null,
            "grid_template_columns": null,
            "grid_template_rows": null,
            "height": null,
            "justify_content": null,
            "justify_items": null,
            "left": null,
            "margin": null,
            "max_height": null,
            "max_width": null,
            "min_height": null,
            "min_width": null,
            "object_fit": null,
            "object_position": null,
            "order": null,
            "overflow": null,
            "overflow_x": null,
            "overflow_y": null,
            "padding": null,
            "right": null,
            "top": null,
            "visibility": null,
            "width": null
          }
        },
        "798037a41f414025a64a7ec449791be0": {
          "model_module": "@jupyter-widgets/controls",
          "model_module_version": "1.5.0",
          "model_name": "DescriptionStyleModel",
          "state": {
            "_model_module": "@jupyter-widgets/controls",
            "_model_module_version": "1.5.0",
            "_model_name": "DescriptionStyleModel",
            "_view_count": null,
            "_view_module": "@jupyter-widgets/base",
            "_view_module_version": "1.2.0",
            "_view_name": "StyleView",
            "description_width": ""
          }
        },
        "93c243f06a494585a0ca6ba3f9433d10": {
          "model_module": "@jupyter-widgets/base",
          "model_module_version": "1.2.0",
          "model_name": "LayoutModel",
          "state": {
            "_model_module": "@jupyter-widgets/base",
            "_model_module_version": "1.2.0",
            "_model_name": "LayoutModel",
            "_view_count": null,
            "_view_module": "@jupyter-widgets/base",
            "_view_module_version": "1.2.0",
            "_view_name": "LayoutView",
            "align_content": null,
            "align_items": null,
            "align_self": null,
            "border": null,
            "bottom": null,
            "display": null,
            "flex": null,
            "flex_flow": null,
            "grid_area": null,
            "grid_auto_columns": null,
            "grid_auto_flow": null,
            "grid_auto_rows": null,
            "grid_column": null,
            "grid_gap": null,
            "grid_row": null,
            "grid_template_areas": null,
            "grid_template_columns": null,
            "grid_template_rows": null,
            "height": null,
            "justify_content": null,
            "justify_items": null,
            "left": null,
            "margin": null,
            "max_height": null,
            "max_width": null,
            "min_height": null,
            "min_width": null,
            "object_fit": null,
            "object_position": null,
            "order": null,
            "overflow": null,
            "overflow_x": null,
            "overflow_y": null,
            "padding": null,
            "right": null,
            "top": null,
            "visibility": null,
            "width": null
          }
        },
        "9b9ab8c8d7644bd692ed7247e066ac30": {
          "model_module": "@jupyter-widgets/controls",
          "model_module_version": "1.5.0",
          "model_name": "ProgressStyleModel",
          "state": {
            "_model_module": "@jupyter-widgets/controls",
            "_model_module_version": "1.5.0",
            "_model_name": "ProgressStyleModel",
            "_view_count": null,
            "_view_module": "@jupyter-widgets/base",
            "_view_module_version": "1.2.0",
            "_view_name": "StyleView",
            "bar_color": null,
            "description_width": ""
          }
        },
        "c0ec2bb2eb244dc889563dba0448cfec": {
          "model_module": "@jupyter-widgets/controls",
          "model_module_version": "1.5.0",
          "model_name": "FloatProgressModel",
          "state": {
            "_dom_classes": [],
            "_model_module": "@jupyter-widgets/controls",
            "_model_module_version": "1.5.0",
            "_model_name": "FloatProgressModel",
            "_view_count": null,
            "_view_module": "@jupyter-widgets/controls",
            "_view_module_version": "1.5.0",
            "_view_name": "ProgressView",
            "bar_style": "success",
            "description": "",
            "description_tooltip": null,
            "layout": "IPY_MODEL_5bfe3797b58a4228aa1aedd7bab731f8",
            "max": 1088,
            "min": 0,
            "orientation": "horizontal",
            "style": "IPY_MODEL_9b9ab8c8d7644bd692ed7247e066ac30",
            "value": 1088
          }
        },
        "d1b96d812f4d4ba1b261de03547225f9": {
          "model_module": "@jupyter-widgets/controls",
          "model_module_version": "1.5.0",
          "model_name": "HTMLModel",
          "state": {
            "_dom_classes": [],
            "_model_module": "@jupyter-widgets/controls",
            "_model_module_version": "1.5.0",
            "_model_name": "HTMLModel",
            "_view_count": null,
            "_view_module": "@jupyter-widgets/controls",
            "_view_module_version": "1.5.0",
            "_view_name": "HTMLView",
            "description": "",
            "description_tooltip": null,
            "layout": "IPY_MODEL_43ad8cc45ea349529575b4edab41e781",
            "placeholder": "​",
            "style": "IPY_MODEL_798037a41f414025a64a7ec449791be0",
            "value": "100%"
          }
        },
        "d9cc15a4f1304dce8f35f1864fd9e511": {
          "model_module": "@jupyter-widgets/base",
          "model_module_version": "1.2.0",
          "model_name": "LayoutModel",
          "state": {
            "_model_module": "@jupyter-widgets/base",
            "_model_module_version": "1.2.0",
            "_model_name": "LayoutModel",
            "_view_count": null,
            "_view_module": "@jupyter-widgets/base",
            "_view_module_version": "1.2.0",
            "_view_name": "LayoutView",
            "align_content": null,
            "align_items": null,
            "align_self": null,
            "border": null,
            "bottom": null,
            "display": null,
            "flex": null,
            "flex_flow": null,
            "grid_area": null,
            "grid_auto_columns": null,
            "grid_auto_flow": null,
            "grid_auto_rows": null,
            "grid_column": null,
            "grid_gap": null,
            "grid_row": null,
            "grid_template_areas": null,
            "grid_template_columns": null,
            "grid_template_rows": null,
            "height": null,
            "justify_content": null,
            "justify_items": null,
            "left": null,
            "margin": null,
            "max_height": null,
            "max_width": null,
            "min_height": null,
            "min_width": null,
            "object_fit": null,
            "object_position": null,
            "order": null,
            "overflow": null,
            "overflow_x": null,
            "overflow_y": null,
            "padding": null,
            "right": null,
            "top": null,
            "visibility": null,
            "width": null
          }
        },
        "fe3a77842e0d40db9aa3ce71ab80ce63": {
          "model_module": "@jupyter-widgets/controls",
          "model_module_version": "1.5.0",
          "model_name": "HBoxModel",
          "state": {
            "_dom_classes": [],
            "_model_module": "@jupyter-widgets/controls",
            "_model_module_version": "1.5.0",
            "_model_name": "HBoxModel",
            "_view_count": null,
            "_view_module": "@jupyter-widgets/controls",
            "_view_module_version": "1.5.0",
            "_view_name": "HBoxView",
            "box_style": "",
            "children": [
              "IPY_MODEL_d1b96d812f4d4ba1b261de03547225f9",
              "IPY_MODEL_c0ec2bb2eb244dc889563dba0448cfec",
              "IPY_MODEL_2a24d095ccdc4555ab17c1ee26fdce54"
            ],
            "layout": "IPY_MODEL_d9cc15a4f1304dce8f35f1864fd9e511"
          }
        }
      }
    }
  },
  "nbformat": 4,
  "nbformat_minor": 0
}